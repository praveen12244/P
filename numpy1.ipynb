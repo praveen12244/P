{
 "cells": [
  {
   "cell_type": "code",
   "execution_count": 77,
   "id": "be00dfbd",
   "metadata": {},
   "outputs": [
    {
     "name": "stdout",
     "output_type": "stream",
     "text": [
      "1.23.5\n"
     ]
    }
   ],
   "source": [
    "import numpy as np\n",
    "import sys\n",
    "print(np.__version__)\n",
    "from datetime import datetime\n",
    "import array\n",
    "import matplotlib.pyplot as plt"
   ]
  },
  {
   "cell_type": "code",
   "execution_count": 3,
   "id": "0013c45f",
   "metadata": {},
   "outputs": [],
   "source": [
    "a=np.array([1,2,3,4,5])"
   ]
  },
  {
   "cell_type": "code",
   "execution_count": 6,
   "id": "1c509d7f",
   "metadata": {},
   "outputs": [
    {
     "data": {
      "text/plain": [
       "array([3, 4, 5, 6, 7])"
      ]
     },
     "execution_count": 6,
     "metadata": {},
     "output_type": "execute_result"
    }
   ],
   "source": [
    "a+2#array([2,4,6,8,10])"
   ]
  },
  {
   "cell_type": "code",
   "execution_count": 11,
   "id": "629a34d7",
   "metadata": {},
   "outputs": [
    {
     "name": "stdout",
     "output_type": "stream",
     "text": [
      "The Size of list e =>  216\n",
      "The Size of ndarray u =>  248\n"
     ]
    }
   ],
   "source": [
    "e=[1,2,3,4,5,6,7,8,9,10,111,222,333,444,55,6667,77899,97986765]\n",
    "u=[1,2,3,4,5,6,7,8,9,10,11,22,333,4,445,7799,9,99,0,65716687583,1778,18986]\n",
    "print('The Size of list e => ',sys.getsizeof(e))\n",
    "print('The Size of ndarray u => ',sys.getsizeof(u))"
   ]
  },
  {
   "cell_type": "code",
   "execution_count": 28,
   "id": "be9ceb97",
   "metadata": {},
   "outputs": [
    {
     "name": "stdout",
     "output_type": "stream",
     "text": [
      "The Time taken by traditonal python: 0:00:03.008916\n",
      "The Time taken by Numpy Library: 0:00:02.556560\n"
     ]
    }
   ],
   "source": [
    "a = np.array([10,20,30])\n",
    "b = np.array([1,2,3])\n",
    "\n",
    "def dot_product(a,b):\n",
    "     result = 0\n",
    "     for i,j in zip(a,b):\n",
    "         result = result + i*j\n",
    "     return result\n",
    "before = datetime.now()\n",
    "for i in range(1000000):\n",
    "    dot_product(a,b)   \n",
    "after = datetime.now()\n",
    "print('The Time taken by traditonal python:',after-before)\n",
    "\n",
    "before = datetime.now()\n",
    "for i in range(1000000):\n",
    "    np.dot(a,b) \n",
    "after = datetime.now()\n",
    "print('The Time taken by Numpy Library:',after-before)"
   ]
  },
  {
   "cell_type": "code",
   "execution_count": 32,
   "id": "a13d7bd5",
   "metadata": {},
   "outputs": [
    {
     "name": "stdout",
     "output_type": "stream",
     "text": [
      "Type of a = typearray('i', [10, 20, 30, 40, 50])\n",
      "a value = array('i', [10, 20, 30, 40, 50])\n",
      "elements one by one\n",
      "10\n",
      "20\n",
      "30\n",
      "40\n",
      "50\n"
     ]
    }
   ],
   "source": [
    "a=array.array('i',[10,20,30,40,50])\n",
    "print(f\"Type of a = type{(a)}\")\n",
    "print(f\"a value = {a}\")\n",
    "print(\"elements one by one\")\n",
    "for x in range(len(a)):\n",
    "    print(a[x])"
   ]
  },
  {
   "cell_type": "code",
   "execution_count": 49,
   "id": "7d279347",
   "metadata": {},
   "outputs": [
    {
     "name": "stdout",
     "output_type": "stream",
     "text": [
      "type of o = type[1 2 3 5]\n",
      "type of p = type[1 2 3 5]\n",
      "The dimensions of the array p  1\n",
      "the size of the array p4\n",
      "the size of the shape p(4,)\n"
     ]
    }
   ],
   "source": [
    "o=[1,2,3,5]\n",
    "print(f'type of o = type{(p)}')\n",
    "p=np.array(o)\n",
    "print(f'type of p = type{(p)}')\n",
    "print(f'The dimensions of the array p  {p.ndim}')\n",
    "print(f'the size of the array p{p.size}')\n",
    "print(f'the size of the shape p{p.shape}')"
   ]
  },
  {
   "cell_type": "code",
   "execution_count": 63,
   "id": "1f9d22fe",
   "metadata": {},
   "outputs": [
    {
     "name": "stdout",
     "output_type": "stream",
     "text": [
      "type of t type[('praveen', 'kumar', '1', '2', True, False, 9054367, 98.654)]\n",
      "type of t = type('praveen', 'kumar', '1', '2', True, False, 9054367, 98.654)\n",
      "the data type of element of array <U32\n",
      "the size of the array 8\n",
      "the size of the shape (8,)\n"
     ]
    }
   ],
   "source": [
    "t=('praveen','kumar','1','2',True,False,9054367,98.654)\n",
    "print(f'type of t type{[t]}')\n",
    "y=np.array(t)\n",
    "print(f'type of t = type{(t)}')\n",
    "print(f'the data type of element of array {y.dtype}')\n",
    "print(f'the size of the array {y.size}')\n",
    "print(f'the size of the shape {y.shape}' )"
   ]
  },
  {
   "cell_type": "code",
   "execution_count": 67,
   "id": "95586484",
   "metadata": {},
   "outputs": [
    {
     "name": "stdout",
     "output_type": "stream",
     "text": [
      "type of a = type[[1 2 3]\n",
      " [2 4 5]\n",
      " [5 6 7]]\n",
      "a \n",
      "[[1 2 3]\n",
      " [2 4 5]\n",
      " [5 6 7]]\n",
      "The dimensions of the array a 2\n",
      "The data type of elements of array a int32\n",
      "The size of the array a 9\n",
      "The shape of the array a  (3, 3)\n"
     ]
    }
   ],
   "source": [
    "a=np.array([[1,2,3],[2,4,5],[5,6,7]])\n",
    "print(f'type of a = type{(a)}')\n",
    "print(f'a \\n{a}')\n",
    "print(f'The dimensions of the array a {a.ndim}')\n",
    "print(f'The data type of elements of array a {a.dtype}')\n",
    "print(f'The size of the array a {a.size}')\n",
    "print(f'The shape of the array a  {a.shape}')\n"
   ]
  },
  {
   "cell_type": "code",
   "execution_count": 3,
   "id": "7bd1c3de",
   "metadata": {},
   "outputs": [
    {
     "name": "stdout",
     "output_type": "stream",
     "text": [
      "a :: [10.   20.   30.5  70.   90.   78.65]\n",
      "data type of elements of a ==> float64\n"
     ]
    }
   ],
   "source": [
    "l = [10,20,30.5,70,90,78.65]\n",
    "a = np.array(l) \n",
    "print(f'a :: {a}')\n",
    "print(f'data type of elements of a ==> {a.dtype}')"
   ]
  },
  {
   "cell_type": "code",
   "execution_count": 11,
   "id": "a37f1ee9",
   "metadata": {},
   "outputs": [
    {
     "name": "stdout",
     "output_type": "stream",
     "text": [
      "[ 1  4  7  8  9 56]\n",
      "[ 56.7     98.76    87.      34.     788.      89.9776]\n",
      "[ True  True  True False  True  True  True  True  True]\n",
      "[9.0000e+00+0.j 9.0000e+00+0.j 4.5000e+01+0.j 9.9000e+01+0.j\n",
      " 7.7656e+04+0.j 9.7987e+04+0.j]\n"
     ]
    }
   ],
   "source": [
    "n=np.array([1,4,7,8,9,56.9],dtype=int)\n",
    "print(n)\n",
    "n=np.array([56.7,98.76,87,34,788,89.9776],dtype=float)\n",
    "print(n)\n",
    "n=np.array([5,8,9,0,98.8,986556788,98.35,\"pouohah\",\"praveen\"],dtype=bool)\n",
    "print(n)\n",
    "n=np.array([9,9,45,99,77656,97987],dtype=complex)\n",
    "print(n)"
   ]
  },
  {
   "cell_type": "code",
   "execution_count": 14,
   "id": "d927f43b",
   "metadata": {},
   "outputs": [
    {
     "name": "stdout",
     "output_type": "stream",
     "text": [
      "[10 'krishna' 10.5 True (10+20j) 78 98 0]\n",
      "Data type of elements of array  object\n"
     ]
    }
   ],
   "source": [
    "a = np.array([10,'krishna',10.5,True,10+20j,78,98,0],dtype=object)\n",
    "print(a)\n",
    "# data type\n",
    "print(f\"Data type of elements of array  {a.dtype}\")"
   ]
  },
  {
   "cell_type": "code",
   "execution_count": 21,
   "id": "5e1b03e9",
   "metadata": {},
   "outputs": [
    {
     "name": "stdout",
     "output_type": "stream",
     "text": [
      "y [ 0  1  2  3  4  5  6  7  8  9 10 11 12 13 14]\n",
      "The dimensions of the array y  1\n",
      "The data type of the array y int32\n",
      "the size of the array y 15\n",
      "the shape of the array y (15,)\n"
     ]
    }
   ],
   "source": [
    "y=np.arange(15)\n",
    "print(f'y {y}')\n",
    "print(f'The dimensions of the array y  {y.ndim}')\n",
    "print(f'The data type of the array y {y.dtype}')\n",
    "print(f'the size of the array y {y.size}')\n",
    "print(f'the shape of the array y {y.shape}')\n"
   ]
  },
  {
   "cell_type": "code",
   "execution_count": 22,
   "id": "265fec04",
   "metadata": {},
   "outputs": [
    {
     "name": "stdout",
     "output_type": "stream",
     "text": [
      "y [ 15  16  17  18  19  20  21  22  23  24  25  26  27  28  29  30  31  32\n",
      "  33  34  35  36  37  38  39  40  41  42  43  44  45  46  47  48  49  50\n",
      "  51  52  53  54  55  56  57  58  59  60  61  62  63  64  65  66  67  68\n",
      "  69  70  71  72  73  74  75  76  77  78  79  80  81  82  83  84  85  86\n",
      "  87  88  89  90  91  92  93  94  95  96  97  98  99 100 101 102 103 104\n",
      " 105 106 107 108 109 110 111 112 113 114 115 116 117 118 119 120 121 122\n",
      " 123 124 125 126 127 128 129 130 131 132 133 134 135 136 137 138 139 140\n",
      " 141 142 143 144 145 146 147 148 149 150 151 152 153 154 155 156 157 158\n",
      " 159 160 161 162 163 164 165 166 167 168 169 170 171 172 173 174 175 176\n",
      " 177 178 179 180 181 182 183 184 185 186 187 188 189 190 191 192 193 194\n",
      " 195 196]\n",
      "The dimensions of the array y  1\n",
      "The data type of the array y int32\n",
      "the size of the array y 182\n",
      "the shape of the array y (182,)\n"
     ]
    }
   ],
   "source": [
    "y=np.arange(15,197)\n",
    "print(f'y {y}')\n",
    "print(f'The dimensions of the array y  {y.ndim}')\n",
    "print(f'The data type of the array y {y.dtype}')\n",
    "print(f'the size of the array y {y.size}')\n",
    "print(f'the shape of the array y {y.shape}')\n"
   ]
  },
  {
   "cell_type": "code",
   "execution_count": 25,
   "id": "540eb926",
   "metadata": {},
   "outputs": [
    {
     "name": "stdout",
     "output_type": "stream",
     "text": [
      "y [ 1  4  7 10 13 16 19]\n",
      "The dimensions of the array y  1\n",
      "The data type of the array y int32\n",
      "the size of the array y 7\n",
      "the shape of the array y (7,)\n"
     ]
    }
   ],
   "source": [
    "y=np.arange(1,20,3)\n",
    "print(f'y {y}')\n",
    "print(f'The dimensions of the array y  {y.ndim}')\n",
    "print(f'The data type of the array y {y.dtype}')\n",
    "print(f'the size of the array y {y.size}')\n",
    "print(f'the shape of the array y {y.shape}')"
   ]
  },
  {
   "cell_type": "code",
   "execution_count": 26,
   "id": "e7f451fb",
   "metadata": {},
   "outputs": [
    {
     "name": "stdout",
     "output_type": "stream",
     "text": [
      "y [ 1.  4.  7. 10. 13. 16. 19.]\n",
      "The dimensions of the array y  1\n",
      "The data type of the array y float64\n",
      "the size of the array y 7\n",
      "the shape of the array y (7,)\n"
     ]
    }
   ],
   "source": [
    "y=np.arange(1,20,3,dtype=float)\n",
    "print(f'y {y}')\n",
    "print(f'The dimensions of the array y  {y.ndim}')\n",
    "print(f'The data type of the array y {y.dtype}')\n",
    "print(f'the size of the array y {y.size}')\n",
    "print(f'the shape of the array y {y.shape}')"
   ]
  },
  {
   "cell_type": "code",
   "execution_count": 29,
   "id": "d0c9e3e9",
   "metadata": {},
   "outputs": [
    {
     "data": {
      "text/plain": [
       "array([1.        , 0.97959184, 0.95918367, 0.93877551, 0.91836735,\n",
       "       0.89795918, 0.87755102, 0.85714286, 0.83673469, 0.81632653,\n",
       "       0.79591837, 0.7755102 , 0.75510204, 0.73469388, 0.71428571,\n",
       "       0.69387755, 0.67346939, 0.65306122, 0.63265306, 0.6122449 ,\n",
       "       0.59183673, 0.57142857, 0.55102041, 0.53061224, 0.51020408,\n",
       "       0.48979592, 0.46938776, 0.44897959, 0.42857143, 0.40816327,\n",
       "       0.3877551 , 0.36734694, 0.34693878, 0.32653061, 0.30612245,\n",
       "       0.28571429, 0.26530612, 0.24489796, 0.2244898 , 0.20408163,\n",
       "       0.18367347, 0.16326531, 0.14285714, 0.12244898, 0.10204082,\n",
       "       0.08163265, 0.06122449, 0.04081633, 0.02040816, 0.        ])"
      ]
     },
     "execution_count": 29,
     "metadata": {},
     "output_type": "execute_result"
    }
   ],
   "source": [
    "np.linspace(1,0)\n"
   ]
  },
  {
   "cell_type": "code",
   "execution_count": 30,
   "id": "56eed006",
   "metadata": {},
   "outputs": [
    {
     "data": {
      "text/plain": [
       "array([0. , 0.5, 1. ])"
      ]
     },
     "execution_count": 30,
     "metadata": {},
     "output_type": "execute_result"
    }
   ],
   "source": [
    "np.linspace(0,1,3)"
   ]
  },
  {
   "cell_type": "code",
   "execution_count": 34,
   "id": "9685655c",
   "metadata": {},
   "outputs": [
    {
     "data": {
      "text/plain": [
       "array([0.  , 0.25, 0.5 , 0.75, 1.  ])"
      ]
     },
     "execution_count": 34,
     "metadata": {},
     "output_type": "execute_result"
    }
   ],
   "source": [
    "#including 0 and including 1\n",
    "np.linspace(0,1,5,endpoint=True)"
   ]
  },
  {
   "cell_type": "code",
   "execution_count": 33,
   "id": "a1464052",
   "metadata": {},
   "outputs": [
    {
     "data": {
      "text/plain": [
       "array([0. , 0.2, 0.4, 0.6, 0.8])"
      ]
     },
     "execution_count": 33,
     "metadata": {},
     "output_type": "execute_result"
    }
   ],
   "source": [
    "#including 0 and excluding 1\n",
    "np.linspace(0,1,5,endpoint=False)"
   ]
  },
  {
   "cell_type": "code",
   "execution_count": 35,
   "id": "96adfe2d",
   "metadata": {},
   "outputs": [
    {
     "data": {
      "text/plain": [
       "(array([  1,  12,  23,  34,  45,  56,  67,  78,  89, 100]), 11.0)"
      ]
     },
     "execution_count": 35,
     "metadata": {},
     "output_type": "execute_result"
    }
   ],
   "source": [
    "np.linspace(1,100,10,dtype=int,retstep=True)"
   ]
  },
  {
   "cell_type": "code",
   "execution_count": 36,
   "id": "c2a33e77",
   "metadata": {},
   "outputs": [
    {
     "data": {
      "text/plain": [
       "array([  1,  12,  23,  34,  45,  56,  67,  78,  89, 100])"
      ]
     },
     "execution_count": 36,
     "metadata": {},
     "output_type": "execute_result"
    }
   ],
   "source": [
    "np.linspace(1,100,10,dtype=int,retstep=False)"
   ]
  },
  {
   "cell_type": "code",
   "execution_count": 37,
   "id": "b5d696f9",
   "metadata": {},
   "outputs": [
    {
     "data": {
      "text/plain": [
       "array([0., 0., 0., 0., 0., 0., 0.])"
      ]
     },
     "execution_count": 37,
     "metadata": {},
     "output_type": "execute_result"
    }
   ],
   "source": [
    "np.zeros(7)"
   ]
  },
  {
   "cell_type": "code",
   "execution_count": 42,
   "id": "0f17e2da",
   "metadata": {},
   "outputs": [
    {
     "data": {
      "text/plain": [
       "array([[0., 0., 0., 0., 0.],\n",
       "       [0., 0., 0., 0., 0.],\n",
       "       [0., 0., 0., 0., 0.],\n",
       "       [0., 0., 0., 0., 0.],\n",
       "       [0., 0., 0., 0., 0.]])"
      ]
     },
     "execution_count": 42,
     "metadata": {},
     "output_type": "execute_result"
    }
   ],
   "source": [
    "np.zeros((5,5))\n",
    "\n"
   ]
  },
  {
   "cell_type": "code",
   "execution_count": 43,
   "id": "8ef4e63d",
   "metadata": {},
   "outputs": [
    {
     "data": {
      "text/plain": [
       "array([[[0.]]])"
      ]
     },
     "execution_count": 43,
     "metadata": {},
     "output_type": "execute_result"
    }
   ],
   "source": [
    "np.zeros((1,1,1))"
   ]
  },
  {
   "cell_type": "code",
   "execution_count": 44,
   "id": "7a686d18",
   "metadata": {},
   "outputs": [
    {
     "data": {
      "text/plain": [
       "array([[[[0., 0., 0., 0.],\n",
       "         [0., 0., 0., 0.],\n",
       "         [0., 0., 0., 0.],\n",
       "         [0., 0., 0., 0.]],\n",
       "\n",
       "        [[0., 0., 0., 0.],\n",
       "         [0., 0., 0., 0.],\n",
       "         [0., 0., 0., 0.],\n",
       "         [0., 0., 0., 0.]],\n",
       "\n",
       "        [[0., 0., 0., 0.],\n",
       "         [0., 0., 0., 0.],\n",
       "         [0., 0., 0., 0.],\n",
       "         [0., 0., 0., 0.]]],\n",
       "\n",
       "\n",
       "       [[[0., 0., 0., 0.],\n",
       "         [0., 0., 0., 0.],\n",
       "         [0., 0., 0., 0.],\n",
       "         [0., 0., 0., 0.]],\n",
       "\n",
       "        [[0., 0., 0., 0.],\n",
       "         [0., 0., 0., 0.],\n",
       "         [0., 0., 0., 0.],\n",
       "         [0., 0., 0., 0.]],\n",
       "\n",
       "        [[0., 0., 0., 0.],\n",
       "         [0., 0., 0., 0.],\n",
       "         [0., 0., 0., 0.],\n",
       "         [0., 0., 0., 0.]]]])"
      ]
     },
     "execution_count": 44,
     "metadata": {},
     "output_type": "execute_result"
    }
   ],
   "source": [
    "np.zeros((2,3,4,4))"
   ]
  },
  {
   "cell_type": "code",
   "execution_count": 45,
   "id": "285212e0",
   "metadata": {},
   "outputs": [
    {
     "data": {
      "text/plain": [
       "array([1., 1., 1., 1., 1., 1., 1., 1.])"
      ]
     },
     "execution_count": 45,
     "metadata": {},
     "output_type": "execute_result"
    }
   ],
   "source": [
    "np.ones(8)"
   ]
  },
  {
   "cell_type": "code",
   "execution_count": 46,
   "id": "38deb144",
   "metadata": {},
   "outputs": [
    {
     "data": {
      "text/plain": [
       "array([[1., 1., 1., 1., 1., 1.],\n",
       "       [1., 1., 1., 1., 1., 1.],\n",
       "       [1., 1., 1., 1., 1., 1.],\n",
       "       [1., 1., 1., 1., 1., 1.]])"
      ]
     },
     "execution_count": 46,
     "metadata": {},
     "output_type": "execute_result"
    }
   ],
   "source": [
    "np.ones((4,6),dtype=float)"
   ]
  },
  {
   "cell_type": "code",
   "execution_count": 5,
   "id": "c643b8d0",
   "metadata": {},
   "outputs": [
    {
     "data": {
      "text/plain": [
       "array([[[1., 1., 1., 1., 1., 1.],\n",
       "        [1., 1., 1., 1., 1., 1.],\n",
       "        [1., 1., 1., 1., 1., 1.],\n",
       "        [1., 1., 1., 1., 1., 1.]],\n",
       "\n",
       "       [[1., 1., 1., 1., 1., 1.],\n",
       "        [1., 1., 1., 1., 1., 1.],\n",
       "        [1., 1., 1., 1., 1., 1.],\n",
       "        [1., 1., 1., 1., 1., 1.]],\n",
       "\n",
       "       [[1., 1., 1., 1., 1., 1.],\n",
       "        [1., 1., 1., 1., 1., 1.],\n",
       "        [1., 1., 1., 1., 1., 1.],\n",
       "        [1., 1., 1., 1., 1., 1.]]])"
      ]
     },
     "execution_count": 5,
     "metadata": {},
     "output_type": "execute_result"
    }
   ],
   "source": [
    "np.ones((3,4,6),dtype=float)"
   ]
  },
  {
   "cell_type": "code",
   "execution_count": 6,
   "id": "403892c2",
   "metadata": {},
   "outputs": [
    {
     "data": {
      "text/plain": [
       "array([56, 56, 56, 56, 56, 56, 56, 56, 56, 56, 56, 56, 56, 56, 56, 56, 56,\n",
       "       56, 56, 56, 56, 56, 56, 56, 56])"
      ]
     },
     "execution_count": 6,
     "metadata": {},
     "output_type": "execute_result"
    }
   ],
   "source": [
    "np.full(25,fill_value=56)"
   ]
  },
  {
   "cell_type": "code",
   "execution_count": 7,
   "id": "1ffc9424",
   "metadata": {},
   "outputs": [
    {
     "data": {
      "text/plain": [
       "array([[90, 90, 90, 90],\n",
       "       [90, 90, 90, 90],\n",
       "       [90, 90, 90, 90],\n",
       "       [90, 90, 90, 90]])"
      ]
     },
     "execution_count": 7,
     "metadata": {},
     "output_type": "execute_result"
    }
   ],
   "source": [
    "np.full((4,4),fill_value=90)"
   ]
  },
  {
   "cell_type": "code",
   "execution_count": 8,
   "id": "9ce44912",
   "metadata": {},
   "outputs": [
    {
     "data": {
      "text/plain": [
       "array([[[900, 900, 900, 900],\n",
       "        [900, 900, 900, 900],\n",
       "        [900, 900, 900, 900],\n",
       "        [900, 900, 900, 900]],\n",
       "\n",
       "       [[900, 900, 900, 900],\n",
       "        [900, 900, 900, 900],\n",
       "        [900, 900, 900, 900],\n",
       "        [900, 900, 900, 900]]])"
      ]
     },
     "execution_count": 8,
     "metadata": {},
     "output_type": "execute_result"
    }
   ],
   "source": [
    "np.full((2,4,4),fill_value=900)"
   ]
  },
  {
   "cell_type": "code",
   "execution_count": 10,
   "id": "16cf389a",
   "metadata": {},
   "outputs": [
    {
     "name": "stdout",
     "output_type": "stream",
     "text": [
      "d The value of r :565\n",
      "d The value of s :78\n"
     ]
    }
   ],
   "source": [
    "def d(r,s):\n",
    "    print(f'd The value of r :{r}')\n",
    "    print(f'd The value of s :{s}')\n",
    "d(565,78)\n"
   ]
  },
  {
   "cell_type": "code",
   "execution_count": 13,
   "id": "2ad920be",
   "metadata": {},
   "outputs": [
    {
     "name": "stdout",
     "output_type": "stream",
     "text": [
      "Calling f1(10,20) Valid\n",
      "The value of a :10\n",
      "The value of b :20\n",
      "Calling f1(a=10,b=20)  Invalid\n"
     ]
    },
    {
     "ename": "TypeError",
     "evalue": "f1() got some positional-only arguments passed as keyword arguments: 'a'",
     "output_type": "error",
     "traceback": [
      "\u001b[1;31m---------------------------------------------------------------------------\u001b[0m",
      "\u001b[1;31mTypeError\u001b[0m                                 Traceback (most recent call last)",
      "Cell \u001b[1;32mIn[13], line 7\u001b[0m\n\u001b[0;32m      5\u001b[0m f1(\u001b[38;5;241m10\u001b[39m,\u001b[38;5;241m20\u001b[39m) \n\u001b[0;32m      6\u001b[0m \u001b[38;5;28mprint\u001b[39m(\u001b[38;5;124m\"\u001b[39m\u001b[38;5;124mCalling f1(a=10,b=20)  Invalid\u001b[39m\u001b[38;5;124m\"\u001b[39m)\n\u001b[1;32m----> 7\u001b[0m \u001b[43mf1\u001b[49m\u001b[43m(\u001b[49m\u001b[43ma\u001b[49m\u001b[38;5;241;43m=\u001b[39;49m\u001b[38;5;241;43m10\u001b[39;49m\u001b[43m,\u001b[49m\u001b[43mb\u001b[49m\u001b[38;5;241;43m=\u001b[39;49m\u001b[38;5;241;43m20\u001b[39;49m\u001b[43m)\u001b[49m\n",
      "\u001b[1;31mTypeError\u001b[0m: f1() got some positional-only arguments passed as keyword arguments: 'a'"
     ]
    }
   ],
   "source": [
    "def f1(a, /,b):\n",
    " print(f'The value of a :{a}')\n",
    " print(f'The value of b :{b}')\n",
    "print(\"Calling f1(10,20) Valid\")\n",
    "f1(10,20) \n",
    "print(\"Calling f1(a=10,b=20)  Invalid\")\n",
    "f1(a=10,b=20) "
   ]
  },
  {
   "cell_type": "code",
   "execution_count": 15,
   "id": "d373f538",
   "metadata": {},
   "outputs": [
    {
     "name": "stdout",
     "output_type": "stream",
     "text": [
      "The value of a :: 10\n",
      "The value of b :: 50\n"
     ]
    },
    {
     "ename": "TypeError",
     "evalue": "f1() takes 1 positional argument but 2 were given",
     "output_type": "error",
     "traceback": [
      "\u001b[1;31m---------------------------------------------------------------------------\u001b[0m",
      "\u001b[1;31mTypeError\u001b[0m                                 Traceback (most recent call last)",
      "Cell \u001b[1;32mIn[15], line 5\u001b[0m\n\u001b[0;32m      3\u001b[0m  \u001b[38;5;28mprint\u001b[39m(\u001b[38;5;124mf\u001b[39m\u001b[38;5;124m'\u001b[39m\u001b[38;5;124mThe value of b :: \u001b[39m\u001b[38;5;132;01m{\u001b[39;00mb\u001b[38;5;132;01m}\u001b[39;00m\u001b[38;5;124m'\u001b[39m) \n\u001b[0;32m      4\u001b[0m f1(a\u001b[38;5;241m=\u001b[39m\u001b[38;5;241m10\u001b[39m,b\u001b[38;5;241m=\u001b[39m\u001b[38;5;241m50\u001b[39m) \n\u001b[1;32m----> 5\u001b[0m \u001b[43mf1\u001b[49m\u001b[43m(\u001b[49m\u001b[38;5;241;43m10\u001b[39;49m\u001b[43m,\u001b[49m\u001b[38;5;241;43m50\u001b[39;49m\u001b[43m)\u001b[49m\n",
      "\u001b[1;31mTypeError\u001b[0m: f1() takes 1 positional argument but 2 were given"
     ]
    }
   ],
   "source": [
    "def f1(a,*,b):\n",
    " print(f'The value of a :: {a}')\n",
    " print(f'The value of b :: {b}') \n",
    "f1(a=10,b=50) \n",
    "f1(10,50) "
   ]
  },
  {
   "cell_type": "code",
   "execution_count": 16,
   "id": "292fcfca",
   "metadata": {},
   "outputs": [
    {
     "data": {
      "text/plain": [
       "array([[1., 0., 0.],\n",
       "       [0., 1., 0.],\n",
       "       [0., 0., 1.]])"
      ]
     },
     "execution_count": 16,
     "metadata": {},
     "output_type": "execute_result"
    }
   ],
   "source": [
    "np.eye(3,3)"
   ]
  },
  {
   "cell_type": "code",
   "execution_count": 18,
   "id": "37ea2626",
   "metadata": {},
   "outputs": [
    {
     "data": {
      "text/plain": [
       "array([[0., 1., 0., 0., 0., 0.],\n",
       "       [0., 0., 1., 0., 0., 0.],\n",
       "       [0., 0., 0., 1., 0., 0.],\n",
       "       [0., 0., 0., 0., 1., 0.],\n",
       "       [0., 0., 0., 0., 0., 1.],\n",
       "       [0., 0., 0., 0., 0., 0.]])"
      ]
     },
     "execution_count": 18,
     "metadata": {},
     "output_type": "execute_result"
    }
   ],
   "source": [
    "np.eye(6,k=1)"
   ]
  },
  {
   "cell_type": "code",
   "execution_count": 19,
   "id": "23a18acd",
   "metadata": {},
   "outputs": [
    {
     "data": {
      "text/plain": [
       "array([[0., 0., 0., 0., 0., 0.],\n",
       "       [1., 0., 0., 0., 0., 0.],\n",
       "       [0., 1., 0., 0., 0., 0.],\n",
       "       [0., 0., 1., 0., 0., 0.],\n",
       "       [0., 0., 0., 1., 0., 0.],\n",
       "       [0., 0., 0., 0., 1., 0.]])"
      ]
     },
     "execution_count": 19,
     "metadata": {},
     "output_type": "execute_result"
    }
   ],
   "source": [
    "np.eye(6,k=-1)"
   ]
  },
  {
   "cell_type": "code",
   "execution_count": 20,
   "id": "318431ba",
   "metadata": {},
   "outputs": [
    {
     "data": {
      "text/plain": [
       "array([[0., 0., 0., 0., 0., 0.],\n",
       "       [0., 0., 0., 0., 0., 0.],\n",
       "       [1., 0., 0., 0., 0., 0.],\n",
       "       [0., 1., 0., 0., 0., 0.],\n",
       "       [0., 0., 1., 0., 0., 0.],\n",
       "       [0., 0., 0., 1., 0., 0.]])"
      ]
     },
     "execution_count": 20,
     "metadata": {},
     "output_type": "execute_result"
    }
   ],
   "source": [
    "np.eye(6,k=-2)"
   ]
  },
  {
   "cell_type": "code",
   "execution_count": 21,
   "id": "5ea07315",
   "metadata": {},
   "outputs": [
    {
     "data": {
      "text/plain": [
       "array([[1, 0, 0, 0, 0, 0],\n",
       "       [0, 1, 0, 0, 0, 0],\n",
       "       [0, 0, 1, 0, 0, 0],\n",
       "       [0, 0, 0, 1, 0, 0],\n",
       "       [0, 0, 0, 0, 1, 0],\n",
       "       [0, 0, 0, 0, 0, 1]])"
      ]
     },
     "execution_count": 21,
     "metadata": {},
     "output_type": "execute_result"
    }
   ],
   "source": [
    "np.identity(6,dtype=int)"
   ]
  },
  {
   "cell_type": "code",
   "execution_count": 30,
   "id": "308fd9cb",
   "metadata": {},
   "outputs": [
    {
     "name": "stdout",
     "output_type": "stream",
     "text": [
      "Original 2-D array ==> \n",
      " [[1 2 3]\n",
      " [4 5 6]\n",
      " [7 8 9]]\n",
      "Elements prsent at 0-diagonal  [1 5 9]\n",
      "Elements prsent at 1-diagonal  [2 6]\n",
      "Elements prsent at 2-diagonal  [3]\n",
      "Elements prsent at -1-diagonal  [4 8]\n",
      "Elements prsent at -2-diagonal [7]\n",
      "Elements prsent at 3-diagonal []\n"
     ]
    }
   ],
   "source": [
    "a = np.arange(1,10).reshape(3,3)\n",
    "print(f\"Original 2-D array ==> \\n {a}\")\n",
    "print(f\"Elements prsent at 0-diagonal  {np.diag(a,k=0)}\")\n",
    "print(f\"Elements prsent at 1-diagonal  {np.diag(a,k=1)}\")\n",
    "print(f\"Elements prsent at 2-diagonal  {np.diag(a,k=2)}\")\n",
    "print(f\"Elements prsent at -1-diagonal  {np.diag(a,k=-1)}\")\n",
    "print(f\"Elements prsent at -2-diagonal {np.diag(a,k=-2)}\")\n",
    "print(f\"Elements prsent at 3-diagonal {np.diag(a,k=3)}\")"
   ]
  },
  {
   "cell_type": "code",
   "execution_count": 32,
   "id": "7181a264",
   "metadata": {},
   "outputs": [
    {
     "data": {
      "text/plain": [
       "array([[1, 0, 0, 0],\n",
       "       [0, 2, 0, 0],\n",
       "       [0, 0, 3, 0],\n",
       "       [0, 0, 0, 4]])"
      ]
     },
     "execution_count": 32,
     "metadata": {},
     "output_type": "execute_result"
    }
   ],
   "source": [
    "a=np.array([1,2,3,4])\n",
    "np.diag(a,k=0)"
   ]
  },
  {
   "cell_type": "code",
   "execution_count": 40,
   "id": "aacdd999",
   "metadata": {},
   "outputs": [
    {
     "data": {
      "text/plain": [
       "array([[ 0,  0, 10,  0,  0,  0,  0,  0],\n",
       "       [ 0,  0,  0, 20,  0,  0,  0,  0],\n",
       "       [ 0,  0,  0,  0, 30,  0,  0,  0],\n",
       "       [ 0,  0,  0,  0,  0, 40,  0,  0],\n",
       "       [ 0,  0,  0,  0,  0,  0, 50,  0],\n",
       "       [ 0,  0,  0,  0,  0,  0,  0, 60],\n",
       "       [ 0,  0,  0,  0,  0,  0,  0,  0],\n",
       "       [ 0,  0,  0,  0,  0,  0,  0,  0]])"
      ]
     },
     "execution_count": 40,
     "metadata": {},
     "output_type": "execute_result"
    }
   ],
   "source": [
    "a=np.array([10,20,30,40,50,60])\n",
    "np.diag(a,k=2)"
   ]
  },
  {
   "cell_type": "code",
   "execution_count": 41,
   "id": "4a0f374a",
   "metadata": {},
   "outputs": [
    {
     "name": "stdout",
     "output_type": "stream",
     "text": [
      "Time taken by zeros: 0:00:00.553523\n",
      "Time taken by empty: 0:00:00.015630\n"
     ]
    }
   ],
   "source": [
    "begin=datetime.now()\n",
    "a=np.zeros((10000,300,400))\n",
    "after=datetime.now()\n",
    "print('Time taken by zeros:',after-begin)\n",
    "a= None\n",
    "begin = datetime.now()\n",
    "a = np.empty((10000,300,400))\n",
    "after = datetime.now()\n",
    "print('Time taken by empty:',after-begin)"
   ]
  },
  {
   "cell_type": "code",
   "execution_count": 45,
   "id": "39672dfb",
   "metadata": {},
   "outputs": [
    {
     "data": {
      "text/plain": [
       "99"
      ]
     },
     "execution_count": 45,
     "metadata": {},
     "output_type": "execute_result"
    }
   ],
   "source": [
    "np.random.randint(10,100)"
   ]
  },
  {
   "cell_type": "code",
   "execution_count": 46,
   "id": "140f566a",
   "metadata": {},
   "outputs": [
    {
     "data": {
      "text/plain": [
       "array([759, 786,  29, 214, 787, 329, 554, 555, 114,  23, 930, 311, 887,\n",
       "       393, 595, 366, 493, 964, 425, 158, 514, 659, 343,  75, 824, 229,\n",
       "       859, 951,  56, 514, 511, 359, 985, 167, 899, 672, 516, 972, 320,\n",
       "       172, 475, 640, 738, 767, 486, 104, 718, 200, 431, 154, 896, 963,\n",
       "       741, 356, 346, 423, 429, 548, 807, 394, 929,  64, 476, 152, 518,\n",
       "       382,  37, 988, 268, 413, 698, 857, 816, 364,  37, 644, 716, 519,\n",
       "       170, 717,  26, 105, 298, 149,  65, 301, 526, 572, 433, 563, 916,\n",
       "       637, 478, 144, 123, 696, 743, 562, 457, 752, 160, 728, 628, 841,\n",
       "       530, 372, 282, 109, 791, 113, 442, 630, 677, 897, 460, 246, 644,\n",
       "       909,  69, 457, 271, 277, 258, 586, 478, 729, 204, 537, 926, 937,\n",
       "       118, 232, 661, 823, 404, 278, 542, 660, 342, 984, 109, 922, 474,\n",
       "       796,   8, 575, 671, 434, 895, 404, 353, 779,  63, 721, 803,  63,\n",
       "       182, 721, 623, 497, 857, 736, 398, 278, 756, 250, 487, 963, 924,\n",
       "       938, 183, 687, 286, 982, 236, 795, 547, 296, 848, 542, 367, 791,\n",
       "       356, 728, 485, 560, 147, 292, 910, 940, 505, 756, 442, 869, 963,\n",
       "        51, 913, 620,   9, 787, 820, 373, 968, 931, 402, 875, 191, 895,\n",
       "       488, 565,  93, 262, 955, 751, 786, 642, 977, 644,  61, 216, 499,\n",
       "       656, 833, 424,  62,  45, 379, 671, 572, 307,   2, 481, 343, 676,\n",
       "       106, 769, 897, 185, 488, 458, 865, 775, 725, 347, 646, 926,  42,\n",
       "       416, 498, 845, 572, 669, 515, 940, 839, 102,  12, 690, 475, 334,\n",
       "       671, 599, 129, 216, 533, 921, 850, 974, 136, 308, 966, 391, 364,\n",
       "       592, 354, 871, 130, 118, 941, 436, 229, 456, 475, 886,  95,   7,\n",
       "       641, 978, 590, 913, 458, 362, 974, 326, 448, 520, 716, 173, 204,\n",
       "       914, 736,  92, 753, 351, 301, 981, 499, 869, 151, 863, 267, 390,\n",
       "        27, 751, 985, 413, 648, 701, 338, 978, 915, 279, 154, 356, 148,\n",
       "       427, 156, 369, 548, 110, 268, 307, 434,  70, 323, 818,  96, 764,\n",
       "       841, 814, 538, 393,  70, 689, 528, 438, 246,  98, 257,  84, 514,\n",
       "       180, 443, 254,  66, 781, 332, 265, 286, 674, 467, 576, 623, 601,\n",
       "       985, 936, 800, 311, 430, 969, 255, 545, 582, 840, 707, 596, 484,\n",
       "       529, 993, 171,  67, 789, 954, 196, 969, 243, 338, 845, 402, 439,\n",
       "       128, 187, 199, 515, 807,  94, 264, 368, 195, 515, 298, 173, 561,\n",
       "       129, 172, 236, 230, 638, 165, 612, 755, 281, 232, 463, 873, 788,\n",
       "       895, 241,  28, 560, 424, 708,  65,  75, 142, 394, 318, 939, 157,\n",
       "       402, 874, 219, 793, 738, 591, 980, 797, 546,  48, 973, 719, 446,\n",
       "       343,  92, 719, 121, 404, 145, 428, 580, 524, 618, 527, 655, 588,\n",
       "       484, 535, 983, 944, 804, 386, 234, 944, 496, 789, 630, 887, 962,\n",
       "       529, 460,  34, 865, 650,  82, 637, 223, 846, 824, 270, 877, 387,\n",
       "       251, 622, 746, 155, 735, 346, 714, 886, 770, 924, 753, 270, 150,\n",
       "       910, 898, 382, 771, 929, 359, 687, 517,  26, 711, 285, 402, 448,\n",
       "        41, 944, 391, 209, 271, 908, 239, 845,  70, 379, 931, 317, 390,\n",
       "       890,  38, 323, 342, 918, 403, 786, 770, 608, 299, 475, 533, 234,\n",
       "       988, 365, 118, 871, 506, 215, 280, 940, 471, 825, 568, 601, 136,\n",
       "       222, 550, 158, 372, 729, 427, 198, 460, 689, 693,  17, 138, 302,\n",
       "       587, 948, 265, 890, 204, 127, 793, 519,  47, 674, 262, 244, 517,\n",
       "       401, 551, 888, 583, 547, 799, 932, 564, 502, 711, 335, 465, 574,\n",
       "       143, 780, 840, 258, 453, 293, 499, 266,  56, 438, 849,  95,  31,\n",
       "       607,   2, 319, 312,  95, 650, 910, 885,  20,  16, 248, 700, 891,\n",
       "       418, 322,  48, 939,  55, 793, 906, 524, 940, 960, 679, 518, 658,\n",
       "       151, 461, 314, 758, 771, 201, 433, 399, 643, 174, 804, 325, 411,\n",
       "       766, 929, 487, 253, 692, 769, 221, 863, 289, 539, 971, 855, 392,\n",
       "       283, 239,  68, 868,   2, 439, 708, 234, 842, 477, 105, 863,  14,\n",
       "         5, 624, 708, 336, 216,  96, 837, 529, 565, 205, 111, 498, 920,\n",
       "       587,  89, 325, 219, 424, 989,  98, 104, 815, 783, 348, 722, 679,\n",
       "       621,  59, 281, 294, 631, 517, 175, 460, 385, 525, 574, 254, 865,\n",
       "       433, 927, 608,  26, 305, 705,  31, 855,  96, 952, 738, 384, 100,\n",
       "       305,   6, 331, 979, 170, 267, 771, 297, 976, 165, 320, 552, 984,\n",
       "       501, 511, 121, 242, 958, 371,  68, 711, 995, 253, 240,  24, 661,\n",
       "       615, 820, 442, 603, 577, 405, 846, 152, 461, 824, 880, 629, 816,\n",
       "       178, 669,   9, 682, 890, 932, 124,  63, 849, 758, 550, 267, 224,\n",
       "       100, 349, 976, 519, 117, 363, 359, 608, 548, 592, 237, 344, 110,\n",
       "       303, 769, 606, 359, 926, 948, 582, 654, 885, 312, 890, 554, 494,\n",
       "       285, 161, 803, 502, 114, 533, 842,  26, 476, 949, 681, 137,  57,\n",
       "       326, 824, 992, 278, 329,   1, 912, 342, 379, 856, 676, 293, 960,\n",
       "       656, 186, 670,  45, 489, 949, 663, 605, 472, 261, 568, 661, 524,\n",
       "       515, 315, 823, 804, 373, 451, 871, 453, 308, 886, 446, 161, 948,\n",
       "       611, 601,  63, 902, 457, 549, 352, 815, 744,  10, 982,  51, 362,\n",
       "       965, 389, 590, 848, 666, 933, 349, 618,  87, 853, 943, 280, 216,\n",
       "       380, 180, 468, 734, 129, 379, 323, 548, 871, 131, 287, 502, 418,\n",
       "       815, 436, 461, 387, 687, 455, 345, 104, 533, 841, 937, 977, 282,\n",
       "       161,  79, 942, 783,  62, 566, 432, 236,  22, 959, 458, 589, 609,\n",
       "       298, 499, 428,  73, 689, 157,  87,  30, 976, 567, 984, 106, 889,\n",
       "       967,  27, 407, 546, 515, 592, 744, 432, 540, 439, 649, 958, 764,\n",
       "       371, 322, 202, 816, 309, 506, 388, 656, 203, 265,   8, 644, 705,\n",
       "       393, 728, 135,  82, 662, 644, 607, 227, 460, 666, 364, 170,  86,\n",
       "       419, 654, 971, 453,  91, 225, 535,  73, 384, 784,  50, 656, 475,\n",
       "       303, 176, 597, 491, 802, 141, 965, 662,  69,  81, 836, 617, 310,\n",
       "       610, 591, 765, 633, 432, 716, 506, 551, 698, 169, 988, 699])"
      ]
     },
     "execution_count": 46,
     "metadata": {},
     "output_type": "execute_result"
    }
   ],
   "source": [
    "np.random.randint(1,999,size=1000)"
   ]
  },
  {
   "cell_type": "code",
   "execution_count": 50,
   "id": "600fb143",
   "metadata": {},
   "outputs": [
    {
     "data": {
      "text/plain": [
       "array([[22, 42, 39, 40],\n",
       "       [32, 18, 32, 12]])"
      ]
     },
     "execution_count": 50,
     "metadata": {},
     "output_type": "execute_result"
    }
   ],
   "source": [
    "np.random.randint(44,size=(2,4))"
   ]
  },
  {
   "cell_type": "code",
   "execution_count": 51,
   "id": "02e77fc9",
   "metadata": {},
   "outputs": [
    {
     "data": {
      "text/plain": [
       "array([[121, 169,   3,  60, 172,  17],\n",
       "       [ 18,  66, 131, 101, 134, 176],\n",
       "       [122,  60, 148,  61,  86,  68]])"
      ]
     },
     "execution_count": 51,
     "metadata": {},
     "output_type": "execute_result"
    }
   ],
   "source": [
    "np.random.randint(200,size=(3,6))"
   ]
  },
  {
   "cell_type": "code",
   "execution_count": 54,
   "id": "87bbe42b",
   "metadata": {},
   "outputs": [
    {
     "data": {
      "text/plain": [
       "array([[[174,  27,  15,  60, 139,  49],\n",
       "        [196, 155, 163,  15, 151,  44],\n",
       "        [ 66,  78,  21, 145, 110, 154],\n",
       "        [ 94,  10,  25,  45, 189,  47],\n",
       "        [  3, 193, 112, 125, 105,   8]],\n",
       "\n",
       "       [[ 83,   5, 151,   7, 104,  13],\n",
       "        [142,  81,   1,  90, 164, 128],\n",
       "        [ 79,  39,  29, 160,   6, 138],\n",
       "        [ 61, 183,  30, 113,  95,  39],\n",
       "        [  8, 193, 165,  15,  95, 134]],\n",
       "\n",
       "       [[ 18, 166, 105, 144,  81,  96],\n",
       "        [ 11, 110,  32, 199, 123,  90],\n",
       "        [ 99, 143,   6, 125, 116, 102],\n",
       "        [104, 170,   6, 147,  92,  24],\n",
       "        [134,   3,  72,  31,  94, 160]],\n",
       "\n",
       "       [[ 39, 150, 134,  24,  53, 185],\n",
       "        [  5, 129,  88, 173,  82,   0],\n",
       "        [ 37, 185, 128,  11, 129, 131],\n",
       "        [ 10,   0, 169, 186,  13,  69],\n",
       "        [138, 104, 173,  87,  43,  95]]])"
      ]
     },
     "execution_count": 54,
     "metadata": {},
     "output_type": "execute_result"
    }
   ],
   "source": [
    "np.random.randint(200,size=(4,5,6))\n"
   ]
  },
  {
   "cell_type": "code",
   "execution_count": 56,
   "id": "8b15813b",
   "metadata": {},
   "outputs": [
    {
     "name": "stdout",
     "output_type": "stream",
     "text": [
      "Data type of the elements : int32\n"
     ]
    }
   ],
   "source": [
    "a = np.random.randint(1,30,size=(10,30))\n",
    "print(f\"Data type of the elements : {a.dtype}\")"
   ]
  },
  {
   "cell_type": "code",
   "execution_count": 57,
   "id": "32c7e72d",
   "metadata": {},
   "outputs": [
    {
     "name": "stdout",
     "output_type": "stream",
     "text": [
      "with int32 size of ndarray : 2528\n",
      "with int8 size of ndarray : 728\n"
     ]
    }
   ],
   "source": [
    "a = np.random.randint(1,11,size=(20,30))\n",
    "print(f\"with int32 size of ndarray : {sys.getsizeof(a)}\")\n",
    "a = np.random.randint(1,11,size=(20,30),dtype='int8')\n",
    "print(f\"with int8 size of ndarray : {sys.getsizeof(a)}\")"
   ]
  },
  {
   "cell_type": "code",
   "execution_count": 58,
   "id": "d8f4c6ca",
   "metadata": {},
   "outputs": [
    {
     "name": "stdout",
     "output_type": "stream",
     "text": [
      "Before Conversion \n",
      "Data type of a ==> int32\n",
      "Ater calling astype() on the ndarray a \n",
      "Data type of b==> float64\n"
     ]
    }
   ],
   "source": [
    "a = np.random.randint(1,25,size=(20,30))\n",
    "print(\"Before Conversion \")\n",
    "print(f\"Data type of a ==> {a.dtype}\")\n",
    "b = a.astype('float')\n",
    "print(\"Ater calling astype() on the ndarray a \")\n",
    "print(f\"Data type of b==> {b.dtype}\")"
   ]
  },
  {
   "cell_type": "code",
   "execution_count": 60,
   "id": "e8d8703d",
   "metadata": {},
   "outputs": [
    {
     "data": {
      "text/plain": [
       "2"
      ]
     },
     "execution_count": 60,
     "metadata": {},
     "output_type": "execute_result"
    }
   ],
   "source": [
    "np.random.randint(5)"
   ]
  },
  {
   "cell_type": "code",
   "execution_count": 62,
   "id": "6a2d7397",
   "metadata": {},
   "outputs": [
    {
     "data": {
      "text/plain": [
       "0.8750017018421922"
      ]
     },
     "execution_count": 62,
     "metadata": {},
     "output_type": "execute_result"
    }
   ],
   "source": [
    "np.random.rand()"
   ]
  },
  {
   "cell_type": "code",
   "execution_count": 63,
   "id": "ceb57236",
   "metadata": {},
   "outputs": [
    {
     "data": {
      "text/plain": [
       "array([0.78859651, 0.33167707, 0.18479182, 0.62660781, 0.24529527,\n",
       "       0.46294449, 0.96223827, 0.03941624, 0.52526183, 0.7138417 ,\n",
       "       0.04899035, 0.91841059, 0.75267554, 0.81772466, 0.09716362,\n",
       "       0.89402679, 0.51038234, 0.82745021, 0.92946038, 0.40991695])"
      ]
     },
     "execution_count": 63,
     "metadata": {},
     "output_type": "execute_result"
    }
   ],
   "source": [
    "np.random.rand(20)"
   ]
  },
  {
   "cell_type": "code",
   "execution_count": 67,
   "id": "80a04a65",
   "metadata": {},
   "outputs": [
    {
     "data": {
      "text/plain": [
       "array([[0.7352205 , 0.89717176, 0.80928872, 0.00817321, 0.94014702],\n",
       "       [0.3526161 , 0.60736983, 0.84898442, 0.46954583, 0.99589929],\n",
       "       [0.30110996, 0.7392321 , 0.23818983, 0.84926269, 0.56997108],\n",
       "       [0.34953825, 0.67914569, 0.38517329, 0.49422064, 0.89301666],\n",
       "       [0.11848029, 0.37395256, 0.63544245, 0.45641119, 0.97011912]])"
      ]
     },
     "execution_count": 67,
     "metadata": {},
     "output_type": "execute_result"
    }
   ],
   "source": [
    "np.random.rand(5,5)"
   ]
  },
  {
   "cell_type": "code",
   "execution_count": 68,
   "id": "dc55926d",
   "metadata": {},
   "outputs": [
    {
     "data": {
      "text/plain": [
       "array([[[0.39821313, 0.3509514 , 0.12105074],\n",
       "        [0.67112338, 0.64087575, 0.60159993]]])"
      ]
     },
     "execution_count": 68,
     "metadata": {},
     "output_type": "execute_result"
    }
   ],
   "source": [
    "np.random.rand(1,2,3)"
   ]
  },
  {
   "cell_type": "code",
   "execution_count": 69,
   "id": "14517d5b",
   "metadata": {},
   "outputs": [
    {
     "data": {
      "text/plain": [
       "0.7276495954828712"
      ]
     },
     "execution_count": 69,
     "metadata": {},
     "output_type": "execute_result"
    }
   ],
   "source": [
    "np.random.uniform()"
   ]
  },
  {
   "cell_type": "code",
   "execution_count": 71,
   "id": "303216f8",
   "metadata": {},
   "outputs": [
    {
     "data": {
      "text/plain": [
       "39.73708111878003"
      ]
     },
     "execution_count": 71,
     "metadata": {},
     "output_type": "execute_result"
    }
   ],
   "source": [
    "np.random.uniform(12,70)"
   ]
  },
  {
   "cell_type": "code",
   "execution_count": 72,
   "id": "4f288e36",
   "metadata": {},
   "outputs": [
    {
     "data": {
      "text/plain": [
       "array([65.11620238, 36.05641985, 15.58672493, 47.54393384, 17.50575491,\n",
       "       65.49143872])"
      ]
     },
     "execution_count": 72,
     "metadata": {},
     "output_type": "execute_result"
    }
   ],
   "source": [
    "np.random.uniform(12,70,size = 6)"
   ]
  },
  {
   "cell_type": "code",
   "execution_count": 76,
   "id": "32900c97",
   "metadata": {},
   "outputs": [
    {
     "data": {
      "text/plain": [
       "array([[3.21131402, 1.30401208, 4.94543659, 4.41912972, 2.09899114,\n",
       "        3.73570363],\n",
       "       [4.66509468, 4.39860052, 2.17613782, 1.63618163, 3.87275315,\n",
       "        2.50352438],\n",
       "       [3.74115704, 2.12260084, 2.95242529, 2.51816273, 1.5734968 ,\n",
       "        4.56357899],\n",
       "       [2.44207223, 3.59979862, 1.99850343, 3.56531736, 3.07483552,\n",
       "        1.3613153 ]])"
      ]
     },
     "execution_count": 76,
     "metadata": {},
     "output_type": "execute_result"
    }
   ],
   "source": [
    "np.random.uniform(1,5,size=(4,6))"
   ]
  },
  {
   "cell_type": "code",
   "execution_count": 82,
   "id": "dbda8ec6",
   "metadata": {},
   "outputs": [
    {
     "data": {
      "image/png": "[encoded data removed]",
      "text/plain": [
       "<Figure size 640x480 with 1 Axes>"
      ]
     },
     "metadata": {},
     "output_type": "display_data"
    }
   ],
   "source": [
    "s = np.random.uniform(10,20,size=100)\n",
    "\n",
    "count, bins, ignored = plt.hist(s, 15, density=True)\n",
    "plt.plot(bins, np.ones_like(bins), linewidth=2, color='b')\n",
    "plt.show()"
   ]
  },
  {
   "cell_type": "code",
   "execution_count": null,
   "id": "fce96599",
   "metadata": {},
   "outputs": [],
   "source": []
  },
  {
   "cell_type": "code",
   "execution_count": null,
   "id": "84315e08",
   "metadata": {},
   "outputs": [],
   "source": []
  }
 ],
 "metadata": {
  "kernelspec": {
   "display_name": "Python 3 (ipykernel)",
   "language": "python",
   "name": "python3"
  },
  "language_info": {
   "codemirror_mode": {
    "name": "ipython",
    "version": 3
   },
   "file_extension": ".py",
   "mimetype": "text/x-python",
   "name": "python",
   "nbconvert_exporter": "python",
   "pygments_lexer": "ipython3",
   "version": "3.9.16"
  }
 },
 "nbformat": 4,
 "nbformat_minor": 5
}
