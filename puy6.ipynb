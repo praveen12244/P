{
 "cells": [
  {
   "cell_type": "code",
   "execution_count": 1,
   "id": "dfb1c505",
   "metadata": {},
   "outputs": [
    {
     "name": "stdout",
     "output_type": "stream",
     "text": [
      "5\n"
     ]
    }
   ],
   "source": [
    "print(5)"
   ]
  },
  {
   "cell_type": "code",
   "execution_count": 5,
   "id": "fc03516d",
   "metadata": {},
   "outputs": [
    {
     "name": "stdout",
     "output_type": "stream",
     "text": [
      "14\n"
     ]
    }
   ],
   "source": [
    "x=7+7\n",
    "print(x)"
   ]
  },
  {
   "cell_type": "code",
   "execution_count": 6,
   "id": "c3ccfa21",
   "metadata": {},
   "outputs": [
    {
     "name": "stdout",
     "output_type": "stream",
     "text": [
      "enter a number89\n",
      "89\n"
     ]
    }
   ],
   "source": [
    "my_tre=int(input(\"enter a number\"))\n",
    "print(my_tre)"
   ]
  },
  {
   "cell_type": "code",
   "execution_count": 8,
   "id": "44139633",
   "metadata": {},
   "outputs": [
    {
     "name": "stdout",
     "output_type": "stream",
     "text": [
      "enter a number9\n",
      "enter a number0\n",
      "9\n"
     ]
    }
   ],
   "source": [
    "my_tre=int(input(\"enter a number\"))\n",
    "my_tre1=int(input(\"enter a number\"))\n",
    "io=my_tre+my_tre1\n",
    "print(io)"
   ]
  },
  {
   "cell_type": "code",
   "execution_count": 9,
   "id": "b2442316",
   "metadata": {},
   "outputs": [
    {
     "name": "stdout",
     "output_type": "stream",
     "text": [
      "enter a number9\n",
      "enter a number6\n",
      "3\n"
     ]
    }
   ],
   "source": [
    "my_tre=int(input(\"enter a number\"))\n",
    "my_tre1=int(input(\"enter a number\"))\n",
    "io=my_tre-my_tre1\n",
    "print(io)"
   ]
  },
  {
   "cell_type": "code",
   "execution_count": 10,
   "id": "a7b3ef59",
   "metadata": {},
   "outputs": [
    {
     "name": "stdout",
     "output_type": "stream",
     "text": [
      "enter a number99\n",
      "enter a number44\n",
      "4356\n"
     ]
    }
   ],
   "source": [
    "my_tre=int(input(\"enter a number\"))\n",
    "my_tre1=int(input(\"enter a number\"))\n",
    "io=my_tre*my_tre1\n",
    "print(io)"
   ]
  },
  {
   "cell_type": "code",
   "execution_count": 11,
   "id": "6e2bb3cc",
   "metadata": {},
   "outputs": [
    {
     "name": "stdout",
     "output_type": "stream",
     "text": [
      "enter a number9\n",
      "enter a number3\n",
      "3\n"
     ]
    }
   ],
   "source": [
    "#//returns quotient\n",
    "my_tre=int(input(\"enter a number\"))\n",
    "my_tre1=int(input(\"enter a number\"))\n",
    "io=my_tre//my_tre1\n",
    "print(io)"
   ]
  },
  {
   "cell_type": "code",
   "execution_count": 4,
   "id": "a6474aec",
   "metadata": {},
   "outputs": [
    {
     "name": "stdout",
     "output_type": "stream",
     "text": [
      "enter a number9\n",
      "enter a number4\n",
      "1\n"
     ]
    }
   ],
   "source": [
    "# %returns remainder\n",
    "my_tre=int(input(\"enter a number\"))\n",
    "my_tre1=int(input(\"enter a number\"))\n",
    "io=my_tre%my_tre1\n",
    "print(io)"
   ]
  },
  {
   "cell_type": "code",
   "execution_count": 8,
   "id": "d9e4e59c",
   "metadata": {},
   "outputs": [
    {
     "name": "stdout",
     "output_type": "stream",
     "text": [
      "Twinkle Twinke little star\n",
      "how I wonder what you are!!!\n"
     ]
    }
   ],
   "source": [
    "print(\"Twinkle Twinke little star\\nhow I wonder what you are!!!\")\n"
   ]
  },
  {
   "cell_type": "code",
   "execution_count": 20,
   "id": "f9e975a9",
   "metadata": {},
   "outputs": [
    {
     "name": "stdout",
     "output_type": "stream",
     "text": [
      "enter your first name: praveen\n",
      "enter your last name: kumar\n",
      "kumar\tpraveen\n"
     ]
    }
   ],
   "source": [
    "#accepts the user's first and last name and prints them in reverse order with a space between them\n",
    "fn=input(\"enter your first name: \")\n",
    "ln=input(\"enter your last name: \")\n",
    "print(ln,'\\t',fn,sep='')"
   ]
  },
  {
   "cell_type": "code",
   "execution_count": 24,
   "id": "3b16ffb7",
   "metadata": {},
   "outputs": [
    {
     "name": "stdout",
     "output_type": "stream",
     "text": [
      "enter your first name: pravin\n",
      "enter your last name: kumar\n",
      "kumar\tpravin"
     ]
    }
   ],
   "source": [
    "fn=input(\"enter your first name: \")\n",
    "ln=input(\"enter your last name: \")\n",
    "print(ln,'\\t',fn,sep='',end='')"
   ]
  },
  {
   "cell_type": "code",
   "execution_count": 27,
   "id": "6c0295d8",
   "metadata": {},
   "outputs": [
    {
     "name": "stdout",
     "output_type": "stream",
     "text": [
      "enter the number :9\n",
      "9\n"
     ]
    }
   ],
   "source": [
    "#to get an integer from user and display the number.\n",
    "a=int(input(\"enter the number :\"))\n",
    "print(a)"
   ]
  },
  {
   "cell_type": "code",
   "execution_count": 28,
   "id": "a2524901",
   "metadata": {},
   "outputs": [
    {
     "name": "stdout",
     "output_type": "stream",
     "text": [
      "enter the number98.45\n",
      "enter the number98.34\n",
      "196.79000000000002\n"
     ]
    }
   ],
   "source": [
    "#to get two floating point numbers and display the sum.\n",
    "a=float(input(\"enter the number\"))\n",
    "b=float(input(\"enter the number\"))\n",
    "p=a+b\n",
    "print(p)"
   ]
  },
  {
   "cell_type": "code",
   "execution_count": 29,
   "id": "ce8148ac",
   "metadata": {},
   "outputs": [
    {
     "name": "stdout",
     "output_type": "stream",
     "text": [
      "enter your first name: praveen\n",
      "enter your last name: kumar\n",
      "kumapraveen"
     ]
    }
   ],
   "source": [
    "#\\b combines 2 spaces\n",
    "fn=input(\"enter your first name: \")\n",
    "ln=input(\"enter your last name: \")\n",
    "print(ln,'\\b',fn,sep='',end='')"
   ]
  },
  {
   "cell_type": "code",
   "execution_count": 33,
   "id": "767dc2af",
   "metadata": {},
   "outputs": [
    {
     "name": "stdout",
     "output_type": "stream",
     "text": [
      "enter the radius21\n",
      "1384.74\n"
     ]
    }
   ],
   "source": [
    "#to find area of circle by taking radius as input.\n",
    "ra=int(input(\"enter the radius\"))\n",
    "pi=3.14\n",
    "\n",
    "print(pi*ra*ra)"
   ]
  },
  {
   "cell_type": "code",
   "execution_count": 1,
   "id": "febe7dbe",
   "metadata": {},
   "outputs": [
    {
     "name": "stdout",
     "output_type": "stream",
     "text": [
      "enter the python mark:79\n",
      "enter the data structure mark:80\n",
      "enter the total quality management mark:90\n",
      "enter the hospital management mark:78\n",
      "enter the cloud computing mark:78\n",
      "81.0\n"
     ]
    }
   ],
   "source": [
    "#to marks in 5 subjects and outputs average marks.\n",
    "py=int(input(\"enter the python mark:\"))\n",
    "ds=int(input(\"enter the data structure mark:\"))\n",
    "tqm=int(input(\"enter the total quality management mark:\"))\n",
    "hm=int(input(\"enter the hospital management mark:\"))\n",
    "cc=int(input(\"enter the cloud computing mark:\"))\n",
    "total=(py+ds+tqm+hm+cc)/5\n",
    "print(total)\n"
   ]
  },
  {
   "cell_type": "code",
   "execution_count": 8,
   "id": "2218535e",
   "metadata": {},
   "outputs": [
    {
     "name": "stdout",
     "output_type": "stream",
     "text": [
      "enter the radius 7\n",
      "1436.0266666666666\n"
     ]
    }
   ],
   "source": [
    "#find volume of sphere by taking radius from user.\n",
    "r=int(input(\"enter the radius \"))\n",
    "v=4/3\n",
    "p=3.14\n",
    "s=v*p*r*r*r\n",
    "print(s)"
   ]
  },
  {
   "cell_type": "code",
   "execution_count": 8,
   "id": "460d279b",
   "metadata": {},
   "outputs": [
    {
     "name": "stdout",
     "output_type": "stream",
     "text": [
      "enter a number 7\n",
      "7 * 1 = 7\n",
      "7 * 2 = 14\n",
      "7 * 3 = 21\n",
      "7 * 4 = 28\n",
      "7 * 5 = 35\n"
     ]
    }
   ],
   "source": [
    "#to input a number and print its 5 multiples.\n",
    "num=int(input(\"enter a number \"))\n",
    "print(num,'*',1,'=',num*1)\n",
    "print(num,'*',2,'=',num*2)\n",
    "print(num,'*',3,'=',num*3)\n",
    "print(num,'*',4,'=',num*4)\n",
    "print(num,'*',5,'=',num*5)"
   ]
  },
  {
   "cell_type": "code",
   "execution_count": 58,
   "id": "785e18e8",
   "metadata": {},
   "outputs": [
    {
     "name": "stdout",
     "output_type": "stream",
     "text": [
      "16\n"
     ]
    }
   ],
   "source": [
    "#square root or 2 pow 4\n",
    "p=2**4\n",
    "print(p)"
   ]
  },
  {
   "cell_type": "code",
   "execution_count": 5,
   "id": "61257420",
   "metadata": {},
   "outputs": [
    {
     "name": "stdout",
     "output_type": "stream",
     "text": [
      "enter the length:78.9\n",
      "enter the breadth:67.9\n",
      "5357\n"
     ]
    }
   ],
   "source": [
    "#user to give two float input for length and breadth of a rectangle and print area type casted to int.\n",
    "le=float(input(\"enter the length:\"))\n",
    "bre=float(input(\"enter the breadth:\"))\n",
    "area=le*bre\n",
    "print(int(area))"
   ]
  },
  {
   "cell_type": "code",
   "execution_count": 7,
   "id": "87ccfdcb",
   "metadata": {},
   "outputs": [
    {
     "name": "stdout",
     "output_type": "stream",
     "text": [
      "25\n"
     ]
    }
   ],
   "source": [
    "#find square of a number.\n",
    "p=5**2\n",
    "print(p)"
   ]
  },
  {
   "cell_type": "code",
   "execution_count": 2,
   "id": "3dc40f36",
   "metadata": {},
   "outputs": [
    {
     "name": "stdout",
     "output_type": "stream",
     "text": [
      "enter the value7\n",
      "2.6457513110645907\n"
     ]
    }
   ],
   "source": [
    "#Python program to compute square roots\n",
    "s=int(input(\"enter the value\"))\n",
    "\n",
    "print(s**0.5)"
   ]
  },
  {
   "cell_type": "code",
   "execution_count": 7,
   "id": "1f701cdb",
   "metadata": {},
   "outputs": [
    {
     "name": "stdout",
     "output_type": "stream",
     "text": [
      "(-1.4999999999999998+2.3979157616563596j)\n",
      "(-1.5000000000000002-2.3979157616563596j)\n"
     ]
    }
   ],
   "source": [
    "#a Python program to find the roots of a quadratic function. \n",
    "#ax^2+bx+c\n",
    "\n",
    "a=2\n",
    "b=3\n",
    "c=4\n",
    "\n",
    "p1=(-b+((b**2)-4*a*c)**0.5)/2\n",
    "p2=(-b-((b**2)-4*a*c)**0.5)/2\n",
    "print(p1)\n",
    "print(p2)"
   ]
  },
  {
   "cell_type": "code",
   "execution_count": 25,
   "id": "a9653b1e",
   "metadata": {},
   "outputs": [
    {
     "name": "stdout",
     "output_type": "stream",
     "text": [
      "the real part is 7.0\n",
      "the imaginary part is 9.0\n",
      "the real part is 8.0\n",
      "the imaginary part is 7.0\n"
     ]
    }
   ],
   "source": [
    "#complex mumber to print its real and imaginary parts\n",
    "a=7+9J\n",
    "b=8+7j\n",
    "print(\"the real part is\",a.real)\n",
    "print(\"the imaginary part is\",a.imag)\n",
    "print(\"the real part is\",b.real)\n",
    "print(\"the imaginary part is\",b.imag)"
   ]
  },
  {
   "cell_type": "code",
   "execution_count": 26,
   "id": "19b0ada0",
   "metadata": {},
   "outputs": [
    {
     "name": "stdout",
     "output_type": "stream",
     "text": [
      "enter the number:6+8j\n",
      "enter the number:8+8j\n",
      "the addition is (14+16j)\n",
      "the subtraction is (-2+0j)\n",
      "the multiplication is (-16+112j)\n",
      "the division is (0.875+0.125j)\n"
     ]
    }
   ],
   "source": [
    "#complex number to add,sub ,mul and div 2 nos\n",
    "s=complex(input(\"enter the number:\"))\n",
    "u=complex(input(\"enter the number:\"))\n",
    "k_add=s+u\n",
    "l_sub=s-u\n",
    "p_mul=s*u\n",
    "o_div=s/u\n",
    "print(\"the addition is\",k_add)\n",
    "print(\"the subtraction is\",l_sub)\n",
    "print(\"the multiplication is\",p_mul)\n",
    "print(\"the division is\",o_div)"
   ]
  },
  {
   "cell_type": "code",
   "execution_count": 46,
   "id": "3944e739",
   "metadata": {},
   "outputs": [
    {
     "name": "stdout",
     "output_type": "stream",
     "text": [
      "enter the number:9\n",
      "enter the number:9\n",
      "True\n"
     ]
    }
   ],
   "source": [
    "#1.\tTake two inputs from user and check whether they are equal or not.\n",
    "p=int(input(\"enter the number:\"))\n",
    "r=int(input(\"enter the number:\"))\n",
    "print(p == r)"
   ]
  },
  {
   "cell_type": "code",
   "execution_count": 13,
   "id": "cd8f6b24",
   "metadata": {},
   "outputs": [
    {
     "name": "stdout",
     "output_type": "stream",
     "text": [
      "enter the number:9\n",
      "enter the number:8\n",
      "enter the number:7\n",
      "equal\n",
      "not equal\n"
     ]
    }
   ],
   "source": [
    "#Take 3 inputs from user and check : \n",
    "#all are equal\n",
    "#any of two are equal\n",
    "o=int(input(\"enter the number:\"))\n",
    "b=int(input(\"enter the number:\"))\n",
    "p=int(input(\"enter the number:\"))\n",
    "t=o==b and b==p and p==o\n",
    "print(\"equal\")\n",
    "u=o==b or b==p or p==o\n",
    "print(\"not equal\")"
   ]
  },
  {
   "cell_type": "code",
   "execution_count": 11,
   "id": "aaa7778c",
   "metadata": {},
   "outputs": [
    {
     "name": "stdout",
     "output_type": "stream",
     "text": [
      "enter the number9\n",
      "enter the number9\n",
      "u is greater\n"
     ]
    }
   ],
   "source": [
    "#Take two number and check whether the sum is greater than 5, less than 5 or equal to 5.\n",
    "q=int(input(\"enter the number\"))\n",
    "n=int(input(\"enter the number\"))\n",
    "u=q+n\n",
    "if u>5:\n",
    "    print(\"u is greater\")\n",
    "elif u<5:\n",
    "    print(\"u is less\")\n",
    "else:\n",
    "    print(\"u is equal\")"
   ]
  },
  {
   "cell_type": "code",
   "execution_count": 55,
   "id": "39f892b3",
   "metadata": {},
   "outputs": [
    {
     "name": "stdout",
     "output_type": "stream",
     "text": [
      "False\n",
      "True\n",
      "True\n",
      "False\n"
     ]
    }
   ],
   "source": [
    "#4.\tJudge the following expressions :\n",
    "#not(True and True)\n",
    "#True or False\n",
    "#not(False and True)\n",
    "#False and False\n",
    "print(not(True and True))\n",
    "print(True or False)\n",
    "print(not(False and True))\n",
    "print(False or False)"
   ]
  },
  {
   "cell_type": "code",
   "execution_count": 8,
   "id": "78063342",
   "metadata": {},
   "outputs": [
    {
     "name": "stdout",
     "output_type": "stream",
     "text": [
      "enter the mark98\n",
      "the given mark is greater than pass mark\n"
     ]
    }
   ],
   "source": [
    "#Suppose passing marks of a subject is 35. Take input of marks from user and check whether it is greater than passing marks or not.\n",
    "t=int(input(\"enter the mark\"))\n",
    "p=35\n",
    "if(t>=p):\n",
    "    print(\"the given mark is greater than pass mark\")\n",
    "else:\n",
    "    print(\"the mark is less than 35\")"
   ]
  },
  {
   "cell_type": "code",
   "execution_count": 75,
   "id": "9c7ada78",
   "metadata": {},
   "outputs": [
    {
     "name": "stdout",
     "output_type": "stream",
     "text": [
      "x= 1.5555555555555554\n",
      "y= 2\n",
      "z= 3\n",
      "a= 3\n",
      "f= 5\n",
      "e= 0\n"
     ]
    }
   ],
   "source": [
    "x=(5+3)*4/9-2\n",
    "print(\"x=\",x)\n",
    "y=5%3\n",
    "print(\"y=\",y)\n",
    "z=3%5\n",
    "print(\"z=\",z)\n",
    "a=18//6\n",
    "print(\"a=\",a)\n",
    "f=6//2*3-4\n",
    "print(\"f=\",f)\n",
    "e=6*2//3-4\n",
    "print(\"e=\",e)"
   ]
  }
 ],
 "metadata": {
  "kernelspec": {
   "display_name": "Python 3 (ipykernel)",
   "language": "python",
   "name": "python3"
  },
  "language_info": {
   "codemirror_mode": {
    "name": "ipython",
    "version": 3
   },
   "file_extension": ".py",
   "mimetype": "text/x-python",
   "name": "python",
   "nbconvert_exporter": "python",
   "pygments_lexer": "ipython3",
   "version": "3.9.16"
  }
 },
 "nbformat": 4,
 "nbformat_minor": 5
}
