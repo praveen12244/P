{
 "cells": [
  {
   "cell_type": "code",
   "execution_count": 9,
   "id": "d97fec57",
   "metadata": {},
   "outputs": [
    {
     "name": "stdout",
     "output_type": "stream",
     "text": [
      "enter the year:2021\n",
      "not a leap year 2021\n"
     ]
    }
   ],
   "source": [
    "#leap year\n",
    "year=int(input(\"enter the year:\"))\n",
    "if(year%4==0):\n",
    "    print(\"leap year\",year)\n",
    "else:\n",
    "    print(\"not a leap year\",year)"
   ]
  },
  {
   "cell_type": "code",
   "execution_count": 6,
   "id": "8eeb91f9",
   "metadata": {},
   "outputs": [
    {
     "name": "stdout",
     "output_type": "stream",
     "text": [
      "enter the number-98\n",
      "the number is negative -98\n"
     ]
    }
   ],
   "source": [
    "#to find whether number entered by user is “positive”,”negative” or “zero”.\n",
    "no=int(input(\"enter the number\"))\n",
    "if no==0:\n",
    "    print(\"the number is zero\",no)\n",
    "elif no<0:\n",
    "    print(\"the number is negative\",no)\n",
    "elif no>0:\n",
    "    print(\"the number is positive\",no)\n",
    "        \n",
    "    "
   ]
  },
  {
   "cell_type": "code",
   "execution_count": 3,
   "id": "81932af9",
   "metadata": {},
   "outputs": [
    {
     "name": "stdout",
     "output_type": "stream",
     "text": [
      "enter the number:-89\n",
      "89\n"
     ]
    }
   ],
   "source": [
    "#.\tWrite a program to print absolute value of a number entered by user. removes negative value\n",
    "num=int(input(\"enter the number:\"))\n",
    "if num >0:\n",
    "    print(\"positive\",num)\n",
    "else:\n",
    "    print(num*-1)"
   ]
  },
  {
   "cell_type": "code",
   "execution_count": 7,
   "id": "009407a2",
   "metadata": {},
   "outputs": [
    {
     "name": "stdout",
     "output_type": "stream",
     "text": [
      "enter the  age:45\n",
      "enter the age1:56\n",
      "enter the age2:78\n",
      "age2 is oldest\n",
      "age is youngest\n"
     ]
    }
   ],
   "source": [
    "#Take input of age of 3 people by user and determine oldest and youngest among them.\n",
    "age=int(input(\"enter the  age:\"))\n",
    "age1=int(input(\"enter the age1:\"))\n",
    "age2=int(input(\"enter the age2:\"))\n",
    "if age > age1 and age > age2:\n",
    "    print(\"age  is oldest\")\n",
    "elif age1> age and age1> age2:\n",
    "    print(\"age1  is oldest\")\n",
    "elif age2 > age and age2 > age1:\n",
    "    print(\"age2 is oldest\")\n",
    "\n",
    "if age < age1 and age < age2:\n",
    "    print(\"age is youngest\")\n",
    "elif age1 < age and age1< age2:\n",
    "    print(\"age1 is youngest\")\n",
    "elif age2 < age and age2 < age1:\n",
    "    print(\"age2 is youngest\")"
   ]
  },
  {
   "cell_type": "code",
   "execution_count": 8,
   "id": "c5d7adf9",
   "metadata": {},
   "outputs": [
    {
     "name": "stdout",
     "output_type": "stream",
     "text": [
      "enter the number:5\n",
      "enter the number:50\n",
      "35\n"
     ]
    }
   ],
   "source": [
    "#Write a Python program to find those numbers which are divisible by 7 and multiples of 5\n",
    "num_1=int(input(\"enter the number:\"))\n",
    "num_2=int(input(\"enter the number:\"))\n",
    "for j in range(num_1,num_2):\n",
    "    if j%7==0 and j%5==0:\n",
    "        print(j)"
   ]
  },
  {
   "cell_type": "code",
   "execution_count": 9,
   "id": "6d0205e9",
   "metadata": {},
   "outputs": [
    {
     "name": "stdout",
     "output_type": "stream",
     "text": [
      "enter the length:7\n",
      "enter the breadth:7\n",
      "it is a square\n"
     ]
    }
   ],
   "source": [
    "#Take values of length and breadth of a rectangle from user and check if it is square or not.\n",
    "len=int(input(\"enter the length:\"))\n",
    "brea=int(input(\"enter the breadth:\"))\n",
    "if(len==brea):\n",
    "    print(\"it is a square\")\n",
    "else:\n",
    "    print(\"not a square\")"
   ]
  },
  {
   "cell_type": "code",
   "execution_count": 1,
   "id": "f5870acf",
   "metadata": {},
   "outputs": [
    {
     "name": "stdout",
     "output_type": "stream",
     "text": [
      "enter the salary:5600\n",
      "enter the year of service:5\n",
      "bonus: 280.0\n"
     ]
    }
   ],
   "source": [
    "#company decided to give bonus of 5% to employee if his/her year of service is more than 5 years.Ask user for their salary and year of service and print the net bonus amount.\n",
    "salary=int(input(\"enter the salary:\"))\n",
    "yrofservice=int(input(\"enter the year of service:\"))\n",
    "if yrofservice>=5:\n",
    "    print(\"bonus:\",0.05*salary)\n",
    "else:\n",
    "    print(\"no\")"
   ]
  },
  {
   "cell_type": "code",
   "execution_count": 10,
   "id": "587d4423",
   "metadata": {},
   "outputs": [
    {
     "name": "stdout",
     "output_type": "stream",
     "text": [
      "enter the mark:78\n",
      "B\n"
     ]
    }
   ],
   "source": [
    "#school grade system\n",
    "mark=int(input(\"enter the mark:\"))\n",
    "if(mark>80):\n",
    "    print(\"A\")\n",
    "elif mark>=60 and mark<80:\n",
    "    print(\"B\")\n",
    "elif mark>=50 and mark<60:\n",
    "    print(\"C\")\n",
    "elif mark>=45 and mark<50:\n",
    "    print(\"D\")\n",
    "elif mark>=25 and mark<45:\n",
    "    print(\"E\")\n",
    "else:\n",
    "    print(\"F\")"
   ]
  },
  {
   "cell_type": "code",
   "execution_count": 11,
   "id": "e38b14fb",
   "metadata": {},
   "outputs": [
    {
     "name": "stdout",
     "output_type": "stream",
     "text": [
      "enter the number:79\n",
      "odd\n"
     ]
    }
   ],
   "source": [
    "#odd or even\n",
    "num=int(input(\"enter the number:\"))\n",
    "if(num%2==0):\n",
    "    print(\"number is even\")\n",
    "else:\n",
    "    print(\"odd\")"
   ]
  },
  {
   "cell_type": "code",
   "execution_count": 4,
   "id": "e2a778da",
   "metadata": {},
   "outputs": [
    {
     "name": "stdout",
     "output_type": "stream",
     "text": [
      "enter the quantity:1345\n",
      "1210500.0\n"
     ]
    }
   ],
   "source": [
    "#A shop will give discount of 10% if the cost of purchased quantity is more than 1000.\n",
    "qua=int(input(\"enter the quantity:\"))\n",
    "total_cost=qua*100\n",
    "if qua>1000:\n",
    "    discount=10/100*(total_cost*100)\n",
    "    print(discount-total_cost)\n",
    "else:\n",
    "    print(total_cost)"
   ]
  },
  {
   "cell_type": "code",
   "execution_count": 3,
   "id": "5191802e",
   "metadata": {},
   "outputs": [
    {
     "name": "stdout",
     "output_type": "stream",
     "text": [
      "enter the number:6\n",
      "enter the number:7\n",
      "Fizz\n"
     ]
    }
   ],
   "source": [
    "#Write a Python program that iterates the integers from 1 to 50. For multiples of three print \"Fizz\" instead of the number and for multiples of five print \"Buzz\". For numbers that are multiples of three and five, print \"FizzBuzz\".\n",
    "num_1=int(input(\"enter the number:\"))\n",
    "num_2=int(input(\"enter the number:\")) \n",
    "for i in range(num_1,num_2):\n",
    "    if i%3==0 and i%5==0:\n",
    "        print(\"FizzBuzz\")\n",
    "       \n",
    "        \n",
    "    elif i%3==0:\n",
    "         print(\"Fizz\")\n",
    "        \n",
    "    elif  i%5==0:\n",
    "        print(\"Buzz\")\n",
    "    else:\n",
    "        print(i)"
   ]
  },
  {
   "cell_type": "code",
   "execution_count": 3,
   "id": "f7cad6b0",
   "metadata": {},
   "outputs": [
    {
     "name": "stdout",
     "output_type": "stream",
     "text": [
      "enter the age:77\n",
      "enter  sex:'M' or 'F'M\n",
      "enter martial:'Y' or 'N'N\n",
      "err\n"
     ]
    }
   ],
   "source": []
  },
  {
   "cell_type": "code",
   "execution_count": null,
   "id": "b7d2a4e4",
   "metadata": {},
   "outputs": [],
   "source": []
  }
 ],
 "metadata": {
  "kernelspec": {
   "display_name": "Python 3 (ipykernel)",
   "language": "python",
   "name": "python3"
  },
  "language_info": {
   "codemirror_mode": {
    "name": "ipython",
    "version": 3
   },
   "file_extension": ".py",
   "mimetype": "text/x-python",
   "name": "python",
   "nbconvert_exporter": "python",
   "pygments_lexer": "ipython3",
   "version": "3.9.16"
  }
 },
 "nbformat": 4,
 "nbformat_minor": 5
}
