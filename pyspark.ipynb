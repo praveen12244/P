{
 "cells": [
  {
   "cell_type": "code",
   "execution_count": 1,
   "id": "665ab1bb",
   "metadata": {},
   "outputs": [
    {
     "data": {
      "text/plain": [
       "'C:\\\\Users\\\\udaya\\\\anaconda3\\\\lib\\\\site-packages\\\\pyspark'"
      ]
     },
     "execution_count": 1,
     "metadata": {},
     "output_type": "execute_result"
    }
   ],
   "source": [
    "import findspark\n",
    "findspark.init()\n",
    "findspark.find()"
   ]
  },
  {
   "cell_type": "code",
   "execution_count": 2,
   "id": "68289146",
   "metadata": {},
   "outputs": [],
   "source": [
    "from pyspark.sql import SparkSession\n",
    "Spark=SparkSession.builder.appName('praveen').getOrCreate()"
   ]
  },
  {
   "cell_type": "code",
   "execution_count": 3,
   "id": "988834d7",
   "metadata": {},
   "outputs": [],
   "source": [
    "Data=[('java','299'),('python','899'),('R','299')]\n",
    "columns=['Language','user_count']\n",
    "Df=Spark.createDataFrame(Data).toDF(*columns)"
   ]
  },
  {
   "cell_type": "code",
   "execution_count": 4,
   "id": "3de2d308",
   "metadata": {},
   "outputs": [
    {
     "name": "stdout",
     "output_type": "stream",
     "text": [
      "+--------+----------+\n",
      "|Language|user_count|\n",
      "+--------+----------+\n",
      "|    java|       299|\n",
      "|  python|       899|\n",
      "|       R|       299|\n",
      "+--------+----------+\n",
      "\n"
     ]
    }
   ],
   "source": [
    "Df.show()"
   ]
  },
  {
   "cell_type": "code",
   "execution_count": 14,
   "id": "2f48c4db",
   "metadata": {},
   "outputs": [],
   "source": [
    "Spark2=SparkSession.builder.appName('match').getOrCreate()\n",
    "df=Spark2.read.csv('C:\\\\Users\\\\udaya\\\\Downloads\\\\matches.csv',inferSchema=True,header=True)"
   ]
  },
  {
   "cell_type": "code",
   "execution_count": 15,
   "id": "19645a7d",
   "metadata": {},
   "outputs": [
    {
     "name": "stdout",
     "output_type": "stream",
     "text": [
      "root\n",
      " |-- id: integer (nullable = true)\n",
      " |-- season: integer (nullable = true)\n",
      " |-- city: string (nullable = true)\n",
      " |-- date: string (nullable = true)\n",
      " |-- team1: string (nullable = true)\n",
      " |-- team2: string (nullable = true)\n",
      " |-- toss_winner: string (nullable = true)\n",
      " |-- toss_decision: string (nullable = true)\n",
      " |-- result: string (nullable = true)\n",
      " |-- dl_applied: integer (nullable = true)\n",
      " |-- winner: string (nullable = true)\n",
      " |-- win_by_runs: integer (nullable = true)\n",
      " |-- win_by_wickets: integer (nullable = true)\n",
      " |-- player_of_match: string (nullable = true)\n",
      " |-- venue: string (nullable = true)\n",
      " |-- umpire1: string (nullable = true)\n",
      " |-- umpire2: string (nullable = true)\n",
      " |-- umpire3: string (nullable = true)\n",
      "\n"
     ]
    }
   ],
   "source": [
    "df.printSchema()"
   ]
  },
  {
   "cell_type": "code",
   "execution_count": 17,
   "id": "f6fac91d",
   "metadata": {},
   "outputs": [
    {
     "name": "stdout",
     "output_type": "stream",
     "text": [
      "+---+------+---------+--------+--------------------+--------------------+--------------------+-------------+------+----------+--------------------+-----------+--------------+---------------+--------------------+--------------+-------------+-------+\n",
      "| id|season|     city|    date|               team1|               team2|         toss_winner|toss_decision|result|dl_applied|              winner|win_by_runs|win_by_wickets|player_of_match|               venue|       umpire1|      umpire2|umpire3|\n",
      "+---+------+---------+--------+--------------------+--------------------+--------------------+-------------+------+----------+--------------------+-----------+--------------+---------------+--------------------+--------------+-------------+-------+\n",
      "|  1|  2017|Hyderabad|4/5/2017| Sunrisers Hyderabad|Royal Challengers...|Royal Challengers...|        field|normal|         0| Sunrisers Hyderabad|         35|             0|   Yuvraj Singh|Rajiv Gandhi Inte...| Anil Dandekar|  Nigel Llong|   null|\n",
      "|  2|  2017|     Pune|4/6/2017|      Mumbai Indians|Rising Pune Super...|Rising Pune Super...|        field|normal|         0|Rising Pune Super...|          0|             7|      SPD Smith|Maharashtra Crick...|A Nand Kishore|       S Ravi|   null|\n",
      "|  3|  2017|   Rajkot|4/7/2017|       Gujarat Lions|Kolkata Knight Ri...|Kolkata Knight Ri...|        field|normal|         0|Kolkata Knight Ri...|          0|            10|        CA Lynn|Saurashtra Cricke...|   Nitin Menon|    CK Nandan|   null|\n",
      "|  4|  2017|   Indore|4/8/2017|Rising Pune Super...|     Kings XI Punjab|     Kings XI Punjab|        field|normal|         0|     Kings XI Punjab|          0|             6|     GJ Maxwell|Holkar Cricket St...|  AK Chaudhary|C Shamshuddin|   null|\n",
      "|  5|  2017|Bangalore|4/8/2017|Royal Challengers...|      Delhi Capitals|Royal Challengers...|          bat|normal|         0|Royal Challengers...|         15|             0|      KM Jadhav|M Chinnaswamy Sta...|          null|         null|   null|\n",
      "+---+------+---------+--------+--------------------+--------------------+--------------------+-------------+------+----------+--------------------+-----------+--------------+---------------+--------------------+--------------+-------------+-------+\n",
      "only showing top 5 rows\n",
      "\n"
     ]
    }
   ],
   "source": [
    "df.show(5)"
   ]
  },
  {
   "cell_type": "code",
   "execution_count": 27,
   "id": "040a3c3a",
   "metadata": {},
   "outputs": [
    {
     "name": "stdout",
     "output_type": "stream",
     "text": [
      "root\n",
      " |-- emid: long (nullable = true)\n",
      " |-- name: string (nullable = true)\n",
      " |-- superior_em_id: long (nullable = true)\n",
      " |-- year_joined: string (nullable = true)\n",
      " |-- em_dept_id: string (nullable = true)\n",
      " |-- gender: string (nullable = true)\n",
      " |-- salary: long (nullable = true)\n",
      "\n",
      "+----+-------+--------------+-----------+----------+------+------+\n",
      "|emid|name   |superior_em_id|year_joined|em_dept_id|gender|salary|\n",
      "+----+-------+--------------+-----------+----------+------+------+\n",
      "|1   |praveen|-1            |2018       |10        |M     |23000 |\n",
      "|2   |raj    |1             |2010       |20        |M     |230000|\n",
      "|3   |raja   |1             |2006       |10        |M     |235000|\n",
      "|4   |hari   |2             |2003       |20        |M     |235000|\n",
      "|5   |surya  |2             |2007       |40        |      |-1    |\n",
      "|6   |surya  |2             |2007       |50        |      |-1    |\n",
      "+----+-------+--------------+-----------+----------+------+------+\n",
      "\n",
      "root\n",
      " |-- dept_name: string (nullable = true)\n",
      " |-- dept_id: long (nullable = true)\n",
      "\n",
      "+---------+-------+\n",
      "|dept_name|dept_id|\n",
      "+---------+-------+\n",
      "|finance  |10     |\n",
      "|Marketing|20     |\n",
      "|sales    |30     |\n",
      "|It       |40     |\n",
      "+---------+-------+\n",
      "\n"
     ]
    }
   ],
   "source": [
    "import pyspark\n",
    "from pyspark.sql import SparkSession\n",
    "Spark=SparkSession.builder.appName(\"employee.com\").getOrCreate()\n",
    "\n",
    "em=[(1,\"praveen\",-1,\"2018\",\"10\",\"M\",23000),\\\n",
    "    (2,\"raj\",1,\"2010\",\"20\",\"M\",230000),\\\n",
    "    (3,\"raja\",1,\"2006\",\"10\",\"M\",235000),\\\n",
    "    (4,\"hari\",2,\"2003\",\"20\",\"M\",235000),\\\n",
    "     (5,\"surya\",2,\"2007\",\"40\",\"\",-1),\\\n",
    "      (6,\"surya\",2,\"2007\",\"50\",\"\",-1)]\n",
    "       \n",
    "emColumns = ['emid','name','superior_em_id','year_joined','em_dept_id','gender','salary']\n",
    "emDf=Spark.createDataFrame(data=em, schema=emColumns)\n",
    "emDf.printSchema()\n",
    "emDf.show(truncate=False)\n",
    "dept=[('finance',10), \\\n",
    "      ('Marketing',20), \\\n",
    "      ('sales',30), \\\n",
    "      ('It',40) \\\n",
    "     ]\n",
    "deptColumns=[\"dept_name\",\"dept_id\"]\n",
    "deptDf=Spark.createDataFrame(data=dept,schema=deptColumns)\n",
    "deptDf.printSchema()\n",
    "deptDf.show(truncate=False)"
   ]
  },
  {
   "cell_type": "code",
   "execution_count": 31,
   "id": "2f2c8578",
   "metadata": {},
   "outputs": [
    {
     "name": "stdout",
     "output_type": "stream",
     "text": [
      "+---------------+-------+\n",
      "|Department_name|dept_id|\n",
      "+---------------+-------+\n",
      "|finance        |10     |\n",
      "|Marketing      |20     |\n",
      "|sales          |30     |\n",
      "|It             |40     |\n",
      "+---------------+-------+\n",
      "\n"
     ]
    }
   ],
   "source": [
    "\n",
    "deptDf.withColumnRenamed(\"dept_name\",\"Department_name\").show(truncate=False)\n",
    " \n"
   ]
  },
  {
   "cell_type": "code",
   "execution_count": 40,
   "id": "aafaed50",
   "metadata": {},
   "outputs": [
    {
     "name": "stdout",
     "output_type": "stream",
     "text": [
      "root\n",
      " |-- name: struct (nullable = true)\n",
      " |    |-- firstname: string (nullable = true)\n",
      " |    |-- middlename: string (nullable = true)\n",
      " |    |-- lastname: string (nullable = true)\n",
      " |-- languages: array (nullable = true)\n",
      " |    |-- element: string (containsNull = true)\n",
      " |-- state: string (nullable = true)\n",
      " |-- gender: string (nullable = true)\n",
      "\n",
      "+----------------------+------------------+-----+------+\n",
      "|name                  |languages         |state|gender|\n",
      "+----------------------+------------------+-----+------+\n",
      "|{James, , Smith}      |[Java, Scala, C++]|OH   |M     |\n",
      "|{Anna, Rose, }        |[Spark, Java, C++]|NY   |F     |\n",
      "|{Julia, , Williams}   |[CSharp, VB]      |OH   |F     |\n",
      "|{Maria, Anne, Jones}  |[CSharp, VB]      |NY   |M     |\n",
      "|{Jen, Mary, Brown}    |[CSharp, VB]      |NY   |M     |\n",
      "|{Mike, Mary, Williams}|[Python, VB]      |OH   |M     |\n",
      "|{Mike, Mary, Williams}|[Python, VB]      |CA   |M     |\n",
      "|{Mike, Mary, Williams}|[Python, VB]      |LI   |M     |\n",
      "+----------------------+------------------+-----+------+\n",
      "\n"
     ]
    }
   ],
   "source": [
    "\n",
    "from pyspark.sql.types import StructType,StructField \n",
    "from pyspark.sql.types import StringType, IntegerType, ArrayType\n",
    "data = [\n",
    "    ((\"James\",\"\",\"Smith\"),[\"Java\",\"Scala\",\"C++\"],\"OH\",\"M\"),\n",
    "    ((\"Anna\",\"Rose\",\"\"),[\"Spark\",\"Java\",\"C++\"],\"NY\",\"F\"),\n",
    "    ((\"Julia\",\"\",\"Williams\"),[\"CSharp\",\"VB\"],\"OH\",\"F\"),\n",
    "    ((\"Maria\",\"Anne\",\"Jones\"),[\"CSharp\",\"VB\"],\"NY\",\"M\"),\n",
    "    ((\"Jen\",\"Mary\",\"Brown\"),[\"CSharp\",\"VB\"],\"NY\",\"M\"),\n",
    "    ((\"Mike\",\"Mary\",\"Williams\"),[\"Python\",\"VB\"],\"OH\",\"M\"),\n",
    " ((\"Mike\",\"Mary\",\"Williams\"),[\"Python\",\"VB\"],\"CA\",\"M\"),\n",
    "  ((\"Mike\",\"Mary\",\"Williams\"),[\"Python\",\"VB\"],\"LI\",\"M\")\n",
    "  \n",
    "]\n",
    "        \n",
    "schema = StructType([\n",
    "     StructField('name', StructType([\n",
    "        StructField('firstname', StringType(), True),\n",
    "        StructField('middlename', StringType(), True),\n",
    "         StructField('lastname', StringType(), True)\n",
    "     ])),\n",
    "     StructField('languages', ArrayType(StringType()), True),\n",
    "     StructField('state', StringType(), True),\n",
    "     StructField('gender', StringType(), True)\n",
    " ])\n",
    "\n",
    "df = Spark.createDataFrame(data = data, schema = schema)\n",
    "df.printSchema()\n",
    "df.show(truncate=False)\n",
    "\n",
    " \n"
   ]
  },
  {
   "cell_type": "code",
   "execution_count": 42,
   "id": "13eacd4e",
   "metadata": {},
   "outputs": [
    {
     "name": "stdout",
     "output_type": "stream",
     "text": [
      "+----------------------+------------------+-----+------+\n",
      "|name                  |languages         |state|gender|\n",
      "+----------------------+------------------+-----+------+\n",
      "|{James, , Smith}      |[Java, Scala, C++]|OH   |M     |\n",
      "|{Julia, , Williams}   |[CSharp, VB]      |OH   |F     |\n",
      "|{Mike, Mary, Williams}|[Python, VB]      |OH   |M     |\n",
      "+----------------------+------------------+-----+------+\n",
      "\n"
     ]
    }
   ],
   "source": [
    "df.filter(df.state == \"OH\").show(truncate=False)"
   ]
  },
  {
   "cell_type": "code",
   "execution_count": 35,
   "id": "f997b185",
   "metadata": {},
   "outputs": [
    {
     "name": "stdout",
     "output_type": "stream",
     "text": [
      "+--------------------+------------------+-----+------+\n",
      "|name                |languages         |state|gender|\n",
      "+--------------------+------------------+-----+------+\n",
      "|{Anna, Rose, }      |[Spark, Java, C++]|NY   |F     |\n",
      "|{Maria, Anne, Jones}|[CSharp, VB]      |NY   |M     |\n",
      "|{Jen, Mary, Brown}  |[CSharp, VB]      |NY   |M     |\n",
      "+--------------------+------------------+-----+------+\n",
      "\n"
     ]
    }
   ],
   "source": [
    "df.filter(df.state != \"OH\").show(truncate=False)"
   ]
  },
  {
   "cell_type": "code",
   "execution_count": 43,
   "id": "03e1e2e5",
   "metadata": {},
   "outputs": [
    {
     "name": "stdout",
     "output_type": "stream",
     "text": [
      "+----------------------+------------+-----+------+\n",
      "|name                  |languages   |state|gender|\n",
      "+----------------------+------------+-----+------+\n",
      "|{Maria, Anne, Jones}  |[CSharp, VB]|NY   |M     |\n",
      "|{Jen, Mary, Brown}    |[CSharp, VB]|NY   |M     |\n",
      "|{Mike, Mary, Williams}|[Python, VB]|CA   |M     |\n",
      "|{Mike, Mary, Williams}|[Python, VB]|LI   |M     |\n",
      "+----------------------+------------+-----+------+\n",
      "\n"
     ]
    }
   ],
   "source": [
    "df.filter((df.state != \"OH\") & (df.gender == 'M')).show(truncate=False)"
   ]
  },
  {
   "cell_type": "code",
   "execution_count": 44,
   "id": "0dc56576",
   "metadata": {},
   "outputs": [
    {
     "name": "stdout",
     "output_type": "stream",
     "text": [
      "+--------------------+------------------+-----+------+\n",
      "|                name|         languages|state|gender|\n",
      "+--------------------+------------------+-----+------+\n",
      "|    {James, , Smith}|[Java, Scala, C++]|   OH|     M|\n",
      "|      {Anna, Rose, }|[Spark, Java, C++]|   NY|     F|\n",
      "| {Julia, , Williams}|      [CSharp, VB]|   OH|     F|\n",
      "|{Maria, Anne, Jones}|      [CSharp, VB]|   NY|     M|\n",
      "|  {Jen, Mary, Brown}|      [CSharp, VB]|   NY|     M|\n",
      "|{Mike, Mary, Will...|      [Python, VB]|   OH|     M|\n",
      "|{Mike, Mary, Will...|      [Python, VB]|   LI|     M|\n",
      "+--------------------+------------------+-----+------+\n",
      "\n"
     ]
    }
   ],
   "source": [
    "l=[\"OH\",\"NY\",\"LI\"]\n",
    "df.filter(df.state.isin(l)).show()"
   ]
  },
  {
   "cell_type": "code",
   "execution_count": null,
   "id": "823f05cc",
   "metadata": {},
   "outputs": [],
   "source": []
  }
 ],
 "metadata": {
  "kernelspec": {
   "display_name": "Python 3 (ipykernel)",
   "language": "python",
   "name": "python3"
  },
  "language_info": {
   "codemirror_mode": {
    "name": "ipython",
    "version": 3
   },
   "file_extension": ".py",
   "mimetype": "text/x-python",
   "name": "python",
   "nbconvert_exporter": "python",
   "pygments_lexer": "ipython3",
   "version": "3.9.16"
  }
 },
 "nbformat": 4,
 "nbformat_minor": 5
}
