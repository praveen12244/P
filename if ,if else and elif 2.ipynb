{
 "cells": [
  {
   "cell_type": "code",
   "execution_count": 1,
   "id": "0bac194e",
   "metadata": {},
   "outputs": [
    {
     "name": "stdout",
     "output_type": "stream",
     "text": [
      "enter the number:56\n",
      "enter the number:88\n",
      "before swap:\n",
      "value of num_1: 56 and value of num_2: 88\n",
      "after swap:\n",
      "value of num_1: 88 and value of num_2: 56\n"
     ]
    }
   ],
   "source": [
    "#swap 2 nos\n",
    "num_1=int(input(\"enter the number:\"))\n",
    "num_2=int(input(\"enter the number:\"))\n",
    "print(\"before swap:\")\n",
    "print(\"value of num_1:\",num_1, \"and value of num_2:\",num_2)\n",
    "num_1=num_1+num_2\n",
    "num_2=num_1-num_2\n",
    "num_1=num_1-num_2\n",
    "print(\"after swap:\")\n",
    "print(\"value of num_1:\",num_1, \"and value of num_2:\",num_2)"
   ]
  },
  {
   "cell_type": "code",
   "execution_count": 8,
   "id": "2975faa3",
   "metadata": {},
   "outputs": [
    {
     "name": "stdout",
     "output_type": "stream",
     "text": [
      "enter the age:66\n",
      "senior citizen\n"
     ]
    }
   ],
   "source": [
    "#Write a program to check whether a person is senior citizen or not.\n",
    "age=int(input(\"enter the age:\"))\n",
    "if(age>50 and age<60):\n",
    "    print(\"senior citizen\")\n",
    "elif age>60:\n",
    "    print(\"senior citizen\")\n",
    "else:\n",
    "    print(\"not a senior citizen\")"
   ]
  },
  {
   "cell_type": "code",
   "execution_count": 3,
   "id": "a4ba9cb4",
   "metadata": {},
   "outputs": [
    {
     "name": "stdout",
     "output_type": "stream",
     "text": [
      "enter the number:3\n",
      "enter the number:4\n",
      "enter the number:5\n",
      "12\n",
      "36\n"
     ]
    }
   ],
   "source": [
    "#Write a Python program to calculate the sum of three given numbers, if the values are equal then return three times of their sum.\n",
    "q=int(input(\"enter the number:\"))\n",
    "r=int(input(\"enter the number:\"))\n",
    "s=int(input(\"enter the number:\"))\n",
    "sum=q+r+s\n",
    "if q==r==s:\n",
    "    sum=sum*3\n",
    "print(sum)\n",
    "print(sum*3)\n"
   ]
  },
  {
   "cell_type": "code",
   "execution_count": 4,
   "id": "9be6f8bb",
   "metadata": {},
   "outputs": [
    {
     "name": "stdout",
     "output_type": "stream",
     "text": [
      "enter the number:200\n",
      "hello\n"
     ]
    }
   ],
   "source": [
    "#Write a program to display \"Hello\" if a number entered by user is a multiple of five , \n",
    "#otherwise print \"Bye\".\n",
    "num=int(input(\"enter the number:\"))\n",
    "if(num%5==0):\n",
    "    print(\"hello\")\n",
    "else:\n",
    "    print(\"Bye\")"
   ]
  },
  {
   "cell_type": "code",
   "execution_count": 20,
   "id": "6eba6b37",
   "metadata": {},
   "outputs": [
    {
     "name": "stdout",
     "output_type": "stream",
     "text": [
      "enter the number:350\n",
      "2000\n"
     ]
    }
   ],
   "source": [
    "#electricity bill\n",
    "unit=int(input(\"enter the number:\"))\n",
    "if(unit<100):\n",
    "    print(\"no charge\")\n",
    "elif unit>100 and unit<=200:\n",
    "    price=(unit-100)*5\n",
    "    print (price)\n",
    "elif unit>200:\n",
    "    price_2=100*5\n",
    "    price_3=(unit-200)*10\n",
    "    print(price_2+price_3)\n"
   ]
  },
  {
   "cell_type": "code",
   "execution_count": 12,
   "id": "4a8553e4",
   "metadata": {},
   "outputs": [
    {
     "name": "stdout",
     "output_type": "stream",
     "text": [
      "enter the number127\n",
      "not divisible\n"
     ]
    }
   ],
   "source": [
    "#Write a program to check whether the last digit of a number( entered by user ) is \n",
    "#divisible by 3 or not.\n",
    "no=int(input(\"enter the number\"))\n",
    "last_num=no%10\n",
    "if last_num%3==0:\n",
    "    print(\"number is divisible by 3\")\n",
    "else:\n",
    "    print(\"not divisible\")\n",
    "    \n"
   ]
  },
  {
   "cell_type": "code",
   "execution_count": 29,
   "id": "91f353b7",
   "metadata": {},
   "outputs": [
    {
     "name": "stdout",
     "output_type": "stream",
     "text": [
      "enter the number1234\n",
      "last digit 4\n"
     ]
    }
   ],
   "source": [
    "#Write a program to display the last digit of a number.\n",
    "no=int(input(\"enter the number\"))\n",
    "l=no%10\n",
    "print(\"last digit\",l)"
   ]
  },
  {
   "cell_type": "code",
   "execution_count": 14,
   "id": "6d2e7ea8",
   "metadata": {},
   "outputs": [
    {
     "name": "stdout",
     "output_type": "stream",
     "text": [
      "enter the marked price:4000\n",
      "mp: 3600.0\n"
     ]
    }
   ],
   "source": [
    "#marked price\n",
    "price=int(input(\"enter the marked price:\"))\n",
    "if(price<=7000):\n",
    "    print(\"mp:\",price-0.1*price)\n",
    "elif(price>7000 and price<=10000):\n",
    "    print(\"mp:\",price-0.15*price)\n",
    "elif(price>10000):\n",
    "    print(\"mp:\",price-0.2*price)\n",
    "    "
   ]
  },
  {
   "cell_type": "code",
   "execution_count": 7,
   "id": "eebf327b",
   "metadata": {},
   "outputs": [
    {
     "name": "stdout",
     "output_type": "stream",
     "text": [
      "enter the year:1900\n",
      "not a leap year\n"
     ]
    }
   ],
   "source": [
    "#leap\n",
    "year=int(input(\"enter the year:\"))\n",
    "if(year%400==0):\n",
    "    print(\"leap year\")\n",
    "elif year%4==0 and year%100!=0:\n",
    "    print(\"leap year\")\n",
    "else:\n",
    "    print(\"not a leap year\")\n"
   ]
  },
  {
   "cell_type": "code",
   "execution_count": 15,
   "id": "26feafba",
   "metadata": {},
   "outputs": [
    {
     "name": "stdout",
     "output_type": "stream",
     "text": [
      "enter the age:78\n",
      "enter  sex:'M' or 'F'M\n",
      "enter martial:'Y' or 'N'Y\n",
      "err\n"
     ]
    }
   ],
   "source": [
    "##Male or female\n",
    "age=int(input(\"enter the age:\"))\n",
    "sex=input(\"enter  sex:'M' or 'F'\")\n",
    "martialstatus=input(\"enter martial:'Y' or 'N'\")\n",
    "if sex=='F':\n",
    "    print(\"urban\")\n",
    "elif sex=='M' and age>=20 and age<40:\n",
    "    print(\"anywhere\")\n",
    "elif sex=='M' and age>40 and age<=60:\n",
    "    print(\"urban\")\n",
    "else:\n",
    "    print(\"err\")"
   ]
  },
  {
   "cell_type": "code",
   "execution_count": null,
   "id": "949092b5",
   "metadata": {},
   "outputs": [],
   "source": []
  }
 ],
 "metadata": {
  "kernelspec": {
   "display_name": "Python 3 (ipykernel)",
   "language": "python",
   "name": "python3"
  },
  "language_info": {
   "codemirror_mode": {
    "name": "ipython",
    "version": 3
   },
   "file_extension": ".py",
   "mimetype": "text/x-python",
   "name": "python",
   "nbconvert_exporter": "python",
   "pygments_lexer": "ipython3",
   "version": "3.9.16"
  }
 },
 "nbformat": 4,
 "nbformat_minor": 5
}
