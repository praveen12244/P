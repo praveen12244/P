{
 "cells": [
  {
   "cell_type": "code",
   "execution_count": 12,
   "id": "7ccffba2",
   "metadata": {},
   "outputs": [
    {
     "name": "stdout",
     "output_type": "stream",
     "text": [
      "enter the number10\n",
      "the average is 1.0\n",
      "enter the number20\n",
      "the average is 3.0\n",
      "enter the number30\n",
      "the average is 6.0\n",
      "enter the number40\n",
      "the average is 10.0\n",
      "enter the number50\n",
      "the average is 15.0\n",
      "enter the number60\n",
      "the average is 21.0\n",
      "enter the number70\n",
      "the average is 28.0\n",
      "enter the number80\n",
      "the average is 36.0\n",
      "enter the number90\n",
      "the average is 45.0\n",
      "enter the number100\n",
      "the average is 55.0\n"
     ]
    }
   ],
   "source": [
    "#Take 10 integers from keyboard using loop and print their average value on the screen\n",
    "sum=0\n",
    "count=0\n",
    "while count<10:\n",
    "    num=float(input(\"enter the number\"))\n",
    "    sum=sum+num\n",
    "    count=count+1\n",
    "    avg=sum/10\n",
    "    print(\"the average is\",avg)\n",
    "   "
   ]
  },
  {
   "cell_type": "code",
   "execution_count": 48,
   "id": "aee84193",
   "metadata": {},
   "outputs": [
    {
     "name": "stdout",
     "output_type": "stream",
     "text": [
      "enter the number100\n",
      "Enter the number200\n",
      "100\n",
      "1.0\n",
      "102\n",
      "1.02\n",
      "104\n",
      "1.04\n",
      "106\n",
      "1.06\n",
      "108\n",
      "1.08\n",
      "110\n",
      "1.1\n",
      "112\n",
      "1.12\n",
      "114\n",
      "1.14\n",
      "116\n",
      "1.16\n",
      "118\n",
      "1.18\n",
      "120\n",
      "1.2\n",
      "122\n",
      "1.22\n",
      "124\n",
      "1.24\n",
      "126\n",
      "1.26\n",
      "128\n",
      "1.28\n",
      "130\n",
      "1.3\n",
      "132\n",
      "1.32\n",
      "134\n",
      "1.34\n",
      "136\n",
      "1.36\n",
      "138\n",
      "1.38\n",
      "140\n",
      "1.4\n",
      "142\n",
      "1.42\n",
      "144\n",
      "1.44\n",
      "146\n",
      "1.46\n",
      "148\n",
      "1.48\n",
      "150\n",
      "1.5\n",
      "152\n",
      "1.52\n",
      "154\n",
      "1.54\n",
      "156\n",
      "1.56\n",
      "158\n",
      "1.58\n",
      "160\n",
      "1.6\n",
      "162\n",
      "1.62\n",
      "164\n",
      "1.64\n",
      "166\n",
      "1.66\n",
      "168\n",
      "1.68\n",
      "170\n",
      "1.7\n",
      "172\n",
      "1.72\n",
      "174\n",
      "1.74\n",
      "176\n",
      "1.76\n",
      "178\n",
      "1.78\n",
      "180\n",
      "1.8\n",
      "182\n",
      "1.82\n",
      "184\n",
      "1.84\n",
      "186\n",
      "1.86\n",
      "188\n",
      "1.88\n",
      "190\n",
      "1.9\n",
      "192\n",
      "1.92\n",
      "194\n",
      "1.94\n",
      "196\n",
      "1.96\n",
      "198\n",
      "1.98\n",
      "200\n",
      "2.0\n"
     ]
    }
   ],
   "source": [
    "#Wap to print sum of even numbers from 100 to 200\n",
    "min=int(input('enter the number'))\n",
    "max=int(input('Enter the number'))\n",
    "total=0\n",
    "for num in range(min,max+2):\n",
    "    if(num%2==0):\n",
    "        print(num)\n",
    "        "
   ]
  },
  {
   "cell_type": "code",
   "execution_count": 14,
   "id": "c62911ec",
   "metadata": {},
   "outputs": [
    {
     "name": "stdout",
     "output_type": "stream",
     "text": [
      "10\n",
      "14\n",
      "18\n"
     ]
    }
   ],
   "source": [
    "#Write the output of the following:\n",
    "for k in range(10,20,4):\n",
    "     print(k)"
   ]
  },
  {
   "cell_type": "code",
   "execution_count": 21,
   "id": "00c0596e",
   "metadata": {},
   "outputs": [
    {
     "name": "stdout",
     "output_type": "stream",
     "text": [
      "Enter value2\n",
      "4\n",
      "-17\n"
     ]
    }
   ],
   "source": [
    "#find error\n",
    "x = int(input(\"Enter value\"))\n",
    "for k in range(0,20):\n",
    "    if x==k:\n",
    "        print(x+k)\n",
    "else:\n",
    "        print(x-k)"
   ]
  },
  {
   "cell_type": "code",
   "execution_count": 26,
   "id": "2e27101a",
   "metadata": {},
   "outputs": [
    {
     "name": "stdout",
     "output_type": "stream",
     "text": [
      "enter the number1\n",
      "enter the number20\n",
      "1\n",
      "5\n",
      "7\n",
      "11\n",
      "13\n",
      "17\n",
      "19\n"
     ]
    }
   ],
   "source": [
    "#from 1 to 20 except multiple of 2 and 3\n",
    "num_1=int(input(\"enter the number\"))\n",
    "num_2=int(input(\"enter the number\"))\n",
    "for a in range(num_1,num_2+1):\n",
    "    if a% 2!=0 and a% 3!=0:\n",
    "        print(a)"
   ]
  },
  {
   "cell_type": "code",
   "execution_count": 29,
   "id": "5f457f73",
   "metadata": {},
   "outputs": [
    {
     "name": "stdout",
     "output_type": "stream",
     "text": [
      "enter the number:10\n",
      "55.0\n"
     ]
    }
   ],
   "source": [
    "#Wap to display sum of natural numbers till 10\n",
    "n=int(input(\"enter the number:\"))\n",
    "natural=n*(n+1)/2\n",
    "print(natural)\n",
    "#or\n"
   ]
  },
  {
   "cell_type": "code",
   "execution_count": 41,
   "id": "0f8b849e",
   "metadata": {},
   "outputs": [
    {
     "ename": "SyntaxError",
     "evalue": "invalid non-printable character U+00A0 (454599592.py, line 8)",
     "output_type": "error",
     "traceback": [
      "\u001b[1;36m  Cell \u001b[1;32mIn[41], line 8\u001b[1;36m\u001b[0m\n\u001b[1;33m    \u001b[0m\n\u001b[1;37m    ^\u001b[0m\n\u001b[1;31mSyntaxError\u001b[0m\u001b[1;31m:\u001b[0m invalid non-printable character U+00A0\n"
     ]
    }
   ],
   "source": [
    "x=5\n",
    "while(x<15):\n",
    "    print(x**2)\n",
    "    x+=3\n",
    "    \n",
    "    \n",
    "\n",
    "        "
   ]
  },
  {
   "cell_type": "code",
   "execution_count": 35,
   "id": "c16946a4",
   "metadata": {},
   "outputs": [
    {
     "name": "stdout",
     "output_type": "stream",
     "text": [
      "12\n",
      "13\n"
     ]
    }
   ],
   "source": [
    "a=7\n",
    "b=5\n",
    "while(a<9):\n",
    "    print(a+b)\n",
    "    a+=1\n",
    " \n",
    " "
   ]
  },
  {
   "cell_type": "code",
   "execution_count": 37,
   "id": "c505b469",
   "metadata": {},
   "outputs": [
    {
     "name": "stdout",
     "output_type": "stream",
     "text": [
      "H\n",
      "H\n",
      "H\n",
      "H\n"
     ]
    }
   ],
   "source": [
    "b=5\n",
    "while(b<9):\n",
    "    print(\"H\")\n",
    "    b+=1\n",
    "      "
   ]
  },
  {
   "cell_type": "code",
   "execution_count": 38,
   "id": "b2b03098",
   "metadata": {},
   "outputs": [
    {
     "name": "stdout",
     "output_type": "stream",
     "text": [
      "Hello\n",
      "Hello\n",
      "Hello\n"
     ]
    }
   ],
   "source": [
    "b=15\n",
    "while(b>9):\n",
    "    print(\"Hello\")\n",
    "    b=b-2\n",
    "  \n"
   ]
  },
  {
   "cell_type": "code",
   "execution_count": 39,
   "id": "6b7548aa",
   "metadata": {},
   "outputs": [
    {
     "name": "stdout",
     "output_type": "stream",
     "text": [
      "Hello\n"
     ]
    }
   ],
   "source": [
    "x=15\n",
    "while(x==15):\n",
    "    print(\"Hello\")\n",
    "    x=x-3\n",
    "  "
   ]
  },
  {
   "cell_type": "code",
   "execution_count": null,
   "id": "9626dcf3",
   "metadata": {},
   "outputs": [],
   "source": [
    "#Accept two numbers from the user and display sum of even numbers between them(including both)\n"
   ]
  }
 ],
 "metadata": {
  "kernelspec": {
   "display_name": "Python 3 (ipykernel)",
   "language": "python",
   "name": "python3"
  },
  "language_info": {
   "codemirror_mode": {
    "name": "ipython",
    "version": 3
   },
   "file_extension": ".py",
   "mimetype": "text/x-python",
   "name": "python",
   "nbconvert_exporter": "python",
   "pygments_lexer": "ipython3",
   "version": "3.9.16"
  }
 },
 "nbformat": 4,
 "nbformat_minor": 5
}
